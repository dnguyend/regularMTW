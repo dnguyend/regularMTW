{
  "nbformat": 4,
  "nbformat_minor": 0,
  "metadata": {
    "colab": {
      "provenance": [],
      "authorship_tag": "ABX9TyPkSPB+8Y1P81MZIGFFcjWL",
      "include_colab_link": true
    },
    "kernelspec": {
      "name": "python3",
      "display_name": "Python 3"
    },
    "language_info": {
      "name": "python"
    }
  },
  "cells": [
    {
      "cell_type": "markdown",
      "metadata": {
        "id": "view-in-github",
        "colab_type": "text"
      },
      "source": [
        "<a href=\"https://colab.research.google.com/github/dnguyend/regularMTW/blob/main/colab/Multivariate_t_Python.ipynb\" target=\"_parent\"><img src=\"https://colab.research.google.com/assets/colab-badge.svg\" alt=\"Open In Colab\"/></a>"
      ]
    },
    {
      "cell_type": "markdown",
      "source": [
        "## Workbook to demonstrate using an optimal map to compute probability and expectation of a multivariate t distribution.\n"
      ],
      "metadata": {
        "id": "wexzw2ZJ4O6L"
      }
    },
    {
      "cell_type": "code",
      "execution_count": 1,
      "metadata": {
        "id": "izAFFC1vbrHq"
      },
      "outputs": [],
      "source": [
        "import numpy as np\n",
        "import numpy.linalg as la\n",
        "from scipy.integrate import tplquad, quad\n",
        "from scipy.special import gammaln\n",
        "import matplotlib.pyplot as plt\n",
        "\n",
        "n = 3\n",
        "np.random.seed(0)\n",
        "def W(y, A, nu):\n",
        "    return - gammaln((nu+n)/2) + gammaln(nu/2) \\\n",
        "      + 1/2*(n*np.log(np.pi*nu) + np.log(la.det(A))) \\\n",
        "      + (nu+n)/2*np.log(1 + 1/nu*(y).dot(la.solve(A, y)))\n",
        "\n"
      ]
    },
    {
      "cell_type": "markdown",
      "source": [
        "* The following show the challenge if we start from a uniform distribution on a hypercube of large radius. We use exact integration for $n=3$ and naive MC for $n=5$ and $n=10$"
      ],
      "metadata": {
        "id": "-fSJM6aPCfjl"
      }
    },
    {
      "cell_type": "code",
      "source": [
        "nu = 2.\n",
        "\n",
        "a = - 10\n",
        "b = 10\n",
        "\n",
        "print(tplquad(lambda x, y, z: np.exp(-W(np.array([x, y, z]), np.eye(n), nu)), a, b, a, b, a, b, args=(), epsabs=1.49e-05, epsrel=1.49e-05))\n",
        "\n",
        "\n"
      ],
      "metadata": {
        "colab": {
          "base_uri": "https://localhost:8080/"
        },
        "id": "jFAhWyhzoeMg",
        "outputId": "b6d5aeb8-7b4d-4b93-db54-750d20b5a7bf"
      },
      "execution_count": 2,
      "outputs": [
        {
          "output_type": "stream",
          "name": "stdout",
          "text": [
            "(0.979355423381039, 1.4658936672283904e-05)\n"
          ]
        }
      ]
    },
    {
      "cell_type": "markdown",
      "source": [
        "At $n=10$, the naive simulation only capture 70% of probability using $N=1000$, with"
      ],
      "metadata": {
        "id": "ysed72dikWNE"
      }
    },
    {
      "cell_type": "code",
      "source": [
        "def WI(y, nu):\n",
        "    n = y.shape[0]\n",
        "    return - gammaln((nu+n)/2) + gammaln(nu/2) \\\n",
        "      + 1/2*(n*np.log(np.pi*nu)) \\\n",
        "      + (nu+n)/2*np.log(1 + 1/nu*np.sum(y*y, axis=0))\n",
        "\n",
        "np.random.seed(0)\n",
        "N = 100000\n",
        "nu = 2\n",
        "\n",
        "n = 5\n",
        "vals = []\n",
        "for i in range(1000):\n",
        "  X = np.random.uniform(a, b, (n, N))\n",
        "  vals.append(np.exp(-WI(np.array(X), nu)).mean()*((b-a)**n))\n",
        "vals = np.array(vals)\n",
        "print(f\"n={n} mean={vals.mean()} std={vals.std()}\")\n",
        "\n",
        "n = 10\n",
        "vals = []\n",
        "for i in range(1000):\n",
        "  X = np.random.uniform(a, b, (n, N))\n",
        "  vals.append(np.exp(-WI(np.array(X), nu)).mean()*((b-a)**n))\n",
        "vals = np.array(vals)\n",
        "print(f\"n={n} mean={vals.mean()} max={vals.max()} min={vals.min()} std={vals.std()}\")\n"
      ],
      "metadata": {
        "colab": {
          "base_uri": "https://localhost:8080/"
        },
        "id": "1McBAz6-kxZ8",
        "outputId": "b6cd8406-3d0b-4f79-d923-61a791568f01"
      },
      "execution_count": 3,
      "outputs": [
        {
          "output_type": "stream",
          "name": "stdout",
          "text": [
            "n=5 mean=0.9878478047869803 std=0.2479512423002884\n",
            "n=10 mean=0.6481603775351454 max=79.87301541771325 min=0.12898757566219987 std=2.9050441017621433\n"
          ]
        }
      ]
    },
    {
      "cell_type": "markdown",
      "source": [
        "Better: Evaluating using the scipy library package multivariate_t. This uses the representation of the distribution by chi-square."
      ],
      "metadata": {
        "id": "FEPS0jQN4_bL"
      }
    },
    {
      "cell_type": "code",
      "source": [
        "from scipy.stats import multivariate_t\n",
        "d = 30\n",
        "vals = []\n",
        "rpts = 15\n",
        "for i in range(rpts):\n",
        "  rvs = multivariate_t.rvs(np.zeros(d),  df=10, size=(100000))\n",
        "  vals.append((rvs[:, 0]**2).mean())\n",
        "vals = np.array(vals)\n",
        "print(np.mean(vals))\n",
        "print(np.std(vals))\n",
        "# print(tplquad(lambda x, y, z: (x**2)*np.exp(-WI(np.array([x, y, z]), 10)), a, b, a, b, a, b, args=(), epsabs=1.49e-05, epsrel=1.49e-05))"
      ],
      "metadata": {
        "colab": {
          "base_uri": "https://localhost:8080/"
        },
        "id": "wOHwntbH5mii",
        "outputId": "4f0d4aac-0570-4919-b258-c0d026ac2925"
      },
      "execution_count": 4,
      "outputs": [
        {
          "output_type": "stream",
          "name": "stdout",
          "text": [
            "1.2490684188873111\n",
            "0.005904361774195833\n"
          ]
        }
      ]
    },
    {
      "cell_type": "markdown",
      "source": [
        "So far so good - now try to evaluate probability of a strip, probabilyty where $LY > -1$. We see at large dimensions of 100 and 150, the simulation returns zero."
      ],
      "metadata": {
        "id": "GaXl9ch85vX6"
      }
    },
    {
      "cell_type": "code",
      "source": [
        "def run_scipy_t_rvs(n):\n",
        "\n",
        "  nu = 10\n",
        "\n",
        "  Sig = np.linalg.inv(0.5*(np.eye(n) + np.ones(n)[:, None]@np.ones(n)[None, :]))\n",
        "  L = np.linalg.cholesky(Sig)\n",
        "  vals = []\n",
        "\n",
        "  for i in range(100):\n",
        "    rvs = multivariate_t.rvs(np.zeros(n),  df=10, size=(100000)).T\n",
        "    Ls = L@rvs\n",
        "    mask = np.ones(rvs.shape[1])\n",
        "    mask[np.logical_not(np.prod(Ls > -1, axis=0))] = 0\n",
        "    vals.append(mask.mean())\n",
        "  return np.array(vals)\n",
        "\n",
        "for n in [5, 50, 100, 150]:\n",
        "  vals = run_scipy_t_rvs(n)\n",
        "  print(f\"n={n} mean={vals.mean()}, max={vals.max()}, min={vals.min()} std={vals.std()}, std ratio = {vals.std()/vals.mean()}\")\n",
        "\n"
      ],
      "metadata": {
        "colab": {
          "base_uri": "https://localhost:8080/"
        },
        "id": "bm5vwBiI6Dz6",
        "outputId": "76de9f0f-ad7f-4448-a21c-c448e5ae1ea1"
      },
      "execution_count": 5,
      "outputs": [
        {
          "output_type": "stream",
          "name": "stdout",
          "text": [
            "n=5 mean=0.19816139999999996, max=0.20162, min=0.19466 std=0.0013400992649800236, std ratio = 0.006762665508923654\n",
            "n=50 mean=3.700000000000001e-06, max=3e-05, min=0.0 std=6.731270311018568e-06, std ratio = 1.819262246221234\n"
          ]
        },
        {
          "output_type": "stream",
          "name": "stderr",
          "text": [
            "<ipython-input-5-e49d2b547900>:19: RuntimeWarning: invalid value encountered in scalar divide\n",
            "  print(f\"n={n} mean={vals.mean()}, max={vals.max()}, min={vals.min()} std={vals.std()}, std ratio = {vals.std()/vals.mean()}\")\n"
          ]
        },
        {
          "output_type": "stream",
          "name": "stdout",
          "text": [
            "n=100 mean=0.0, max=0.0, min=0.0 std=0.0, std ratio = nan\n",
            "n=150 mean=0.0, max=0.0, min=0.0 std=0.0, std ratio = nan\n"
          ]
        }
      ]
    },
    {
      "cell_type": "markdown",
      "source": [
        "## Some remarks\n",
        "* Comparing with the \"naive\" sample, using the chi-square representation is powerful. Without it we are at a disadvantage. However simulation for high dimension is hard.\n",
        "\n",
        "* OT can help: we do not use the chi-square representation, but we can still sample at high dimension.\n",
        "* We will show OT avoids this problem, starting with a density only. The following are the main functions that we use.\n",
        "\n",
        "## The OT framework\n",
        "* The function random_ball generates a random point in the uniform distribution in a ball with a given radius\n",
        "* VC is $WI(T_{\\phi}(x), \\nu) - \\log \\det T_{\\phi}$, where $WI$ is the negative log likelihood of the multivariate t distribution, normalized with zero location and unit scaling matrix, of $\\nu$, and $T_{\\phi}$ is the optimal map for $\\phi = \\frac{1}{2}x^TC x$ for a given positive definite matrix $C$, with cost $c(x^Tx) = -\\frac{1}{r}\\sinh (r x^Tx)$.\n",
        "$$T_{\\phi}(x) = (1- r^2(x^TCx)^2)^{-\\frac{1}{2}}Cx\n",
        "$$\n",
        "  * $x$ is drawn from the ellipsoid ball $x^TCx < \\frac{1}{r}$. We draw using random_ball then multiply by $L$, $LL^T = C$\n",
        "* $VC\\_adj = VC - \\log Vol( B)$,\n",
        "$Vol (B) = \\det(C)^{-\\frac{1}{2}} r^{-\\frac{1}{2}}\\frac{\\pi^{\\frac{n}{2}}}{\\Gamma(\\frac{n}{2}+1)}\n",
        "$\n",
        "* $VI\\_adj$ is $VC\\_adj$ with $C= I$, implement to avoid matrix multiplication\n",
        "\n"
      ],
      "metadata": {
        "id": "E3xWl31-9jjk"
      }
    },
    {
      "cell_type": "code",
      "source": [
        "\n",
        "def random_ball(N, n, radius=1.):\n",
        "  random_directions = np.random.randn(n, N)\n",
        "  random_directions /= la.norm(random_directions, axis=0)\n",
        "  # Generate a random radius with probability proportional to\n",
        "  # the surface area of a ball with a given radius.\n",
        "  random_radii = np.random.uniform(0., 1., N) ** (1/n)\n",
        "  # return the list of random (direction & length) points.\n",
        "  return radius * (random_directions * random_radii)\n",
        "\n",
        "def VC(C, logdetC, x, nu):\n",
        "  # $WI(T_{\\phi}(x), \\nu) - \\log \\det T_{\\phi}$\n",
        "  px2 = np.sum(x*(C@x), axis=0)\n",
        "  y = ((1-r**2*px2**2)**(-.5))[None, :]*(C@x)\n",
        "\n",
        "  return WI(y, nu) - np.log((1-r**2*px2**2)**(-n/2-1)*(1+r**2*px2**2)) - logdetC\n",
        "\n",
        "\n",
        "def VCadj(C, logdetC, x, nu):\n",
        "  px2 = np.sum(x*(C@x), axis=0)\n",
        "  y2 = np.sum(x*(C@C@x), axis=0)\n",
        "  return - gammaln((nu+n)/2) + gammaln(nu/2) \\\n",
        "    + 1/2*n*np.log(np.pi*nu) \\\n",
        "    + (nu+n)/2*np.log(1 + 1/nu*(1-r**2*px2**2)**(-1)*y2) \\\n",
        "    + (n/2+1)*np.log((1-r**2*px2**2)) \\\n",
        "    - np.log(1+r**2*px2**2) \\\n",
        "    - (n/2)*np.log(np.pi) \\\n",
        "    + gammaln(n/2+1) \\\n",
        "    + n/2*np.log(r) \\\n",
        "    - .5*logdetC\n",
        "\n",
        "def VIadj(x, nu):\n",
        "  n = x.shape[0]\n",
        "  px2 = np.sum(x*x, axis=0)\n",
        "  # y = ((1-r**2*px2**2)**(-.5))[None, :]*(ptA.A@x)\n",
        "  y2 = np.sum(x*x, axis=0)\n",
        "  return - gammaln((nu+n)/2) + gammaln(nu/2) \\\n",
        "    + n/2*np.log(r*nu) \\\n",
        "    + (nu+n)/2*np.log(1 + 1/nu*(1-r**2*px2**2)**(-1)*y2) \\\n",
        "    + (n/2+1)*np.log((1-r**2*px2**2)) \\\n",
        "    - np.log(1+r**2*px2**2) \\\n",
        "    + gammaln(n/2+1)\n",
        "\n",
        "def iOptMap(y, r):\n",
        "    w2 = np.sum(y**2, axis=0)\n",
        "    return (2/(1+(1 + 4*r**2*w2**2)**.5))**.5*y\n"
      ],
      "metadata": {
        "id": "_HOn76fMnMdc"
      },
      "execution_count": 9,
      "outputs": []
    },
    {
      "cell_type": "markdown",
      "source": [
        "* Quick tests that the implementations are consistent."
      ],
      "metadata": {
        "id": "bQ5T7ApqKfzX"
      }
    },
    {
      "cell_type": "code",
      "source": [
        "n = 5\n",
        "r = 1/3\n",
        "X = random_ball(1000, 5, r)\n",
        "display(r**2*np.max(np.sum(X*X, axis=0)))\\\n",
        "\n",
        "C = 0.5*(np.eye(n) + np.ones(n)[:, None]@np.ones(n)[None, :])\n",
        "VolB = np.log(la.det(C)**(-1/2)*r**(-n/2)*np.pi**(n/2))-gammaln(n/2+1)\n",
        "display(np.max(np.abs(VC(C, np.log(la.det(C)), X, nu=2) - VolB - VCadj(C, np.log(la.det(C)), X, nu=2))))\n",
        "\n",
        "display(np.max(np.abs(VCadj(np.eye(n), 0., X, nu=2) - VIadj(X, nu=2))))\n",
        ""
      ],
      "metadata": {
        "colab": {
          "base_uri": "https://localhost:8080/",
          "height": 72
        },
        "id": "UerwHVOMKJov",
        "outputId": "3d2be5da-d1c5-4b6f-f35f-324037d638b7"
      },
      "execution_count": 7,
      "outputs": [
        {
          "output_type": "display_data",
          "data": {
            "text/plain": [
              "np.float64(0.012340906879819832)"
            ]
          },
          "metadata": {}
        },
        {
          "output_type": "display_data",
          "data": {
            "text/plain": [
              "np.float64(1.4432899320127035e-15)"
            ]
          },
          "metadata": {}
        },
        {
          "output_type": "display_data",
          "data": {
            "text/plain": [
              "np.float64(8.881784197001252e-16)"
            ]
          },
          "metadata": {}
        }
      ]
    },
    {
      "cell_type": "markdown",
      "source": [
        "* The transported distribution\n",
        "For $n=1$, the transported distribution is similar to a uniform distribution on the interval for $x$"
      ],
      "metadata": {
        "id": "7J0tfDfG-52I"
      }
    },
    {
      "cell_type": "code",
      "source": [
        "nu = 10\n",
        "M = 10\n",
        "n_pts = 1000\n",
        "\n",
        "y = (M*np.arange(2*n_pts+1)/n_pts - M).reshape(1, -1)\n",
        "pdf = np.exp(-WI(y, nu))\n",
        "plt.figure(figsize=(10, 10))\n",
        "plt.subplot(221)\n",
        "\n",
        "# equivalent but more general\n",
        "ax1 = plt.subplot(2, 2, 1)\n",
        "\n",
        "# add a subplot with no frame\n",
        "ax2 = plt.subplot(222)\n",
        "\n",
        "ax1.plot(y[0, :], pdf)\n",
        "# , label='original t distribution'\n",
        "\n",
        "r = .5\n",
        "x = iOptMap(y, r)\n",
        "pdfx = VIadj(x, nu)\n",
        "\n",
        "r = 1.\n",
        "x1 = iOptMap(y, r)\n",
        "pdfx1 = VIadj(x1, nu)\n",
        "\n",
        "ax2.plot(x[0, :], np.exp(-pdfx), label='trans. dist. r=0.5')\n",
        "ax2.plot(x1[0, :], np.exp(-pdfx1), label='trans, dist. r=1')\n",
        "ax2.legend()\n",
        "\n",
        "ax1.set_title(f\"Original t distribution $\\\\nu={nu}$\")\n",
        "ax1.set_ylabel(\"Density\")\n",
        "ax1.set_xlabel(\"y\")\n",
        "\n",
        "ax2.set_ylabel(\"Density\")\n",
        "ax2.set_ylim(0, 2.6)\n",
        "ax2.set_xlabel(\"x\")\n",
        "\n",
        "\n",
        "ax2.set_title(\"Transported t distribution\")\n"
      ],
      "metadata": {
        "colab": {
          "base_uri": "https://localhost:8080/",
          "height": 472
        },
        "id": "C6eDJ93w-YkS",
        "outputId": "0223583c-818a-4d15-d482-d4e129995e4a"
      },
      "execution_count": 46,
      "outputs": [
        {
          "output_type": "execute_result",
          "data": {
            "text/plain": [
              "Text(0.5, 1.0, 'Transported t distribution')"
            ]
          },
          "metadata": {},
          "execution_count": 46
        },
        {
          "output_type": "display_data",
          "data": {
            "text/plain": [
              "<Figure size 1000x1000 with 2 Axes>"
            ],
            "image/png": "[encoded data removed]"
          },
          "metadata": {}
        }
      ]
    },
    {
      "cell_type": "code",
      "source": [
        "nu = 3.\n",
        "M = 50\n",
        "n_pts = 1000\n",
        "\n",
        "y = (M*np.arange(2*n_pts+1)/n_pts - M).reshape(1, -1)\n",
        "pdf = np.exp(-WI(y, nu))\n",
        "plt.figure(figsize=(10, 10))\n",
        "plt.subplot(221)\n",
        "\n",
        "# equivalent but more general\n",
        "ax1 = plt.subplot(2, 2, 1)\n",
        "\n",
        "# add a subplot with no frame\n",
        "ax2 = plt.subplot(222)\n",
        "\n",
        "ax1.plot(y[0, :], pdf)\n",
        "# , label='original t distribution'\n",
        "\n",
        "r = .5\n",
        "x = iOptMap(y, r)\n",
        "pdfx = VIadj(x, nu)\n",
        "\n",
        "r = 1.\n",
        "x1 = iOptMap(y, r)\n",
        "pdfx1 = VIadj(x1, nu)\n",
        "\n",
        "ax2.plot(x[0, :], np.exp(-pdfx), label='trans. dist. r=0.5')\n",
        "ax2.plot(x1[0, :], np.exp(-pdfx1), label='trans, dist. r=1')\n",
        "ax2.legend()\n",
        "\n",
        "ax1.set_title(f\"Original t distribution $\\\\nu={nu}$\")\n",
        "ax1.set_ylabel(\"Density\")\n",
        "ax1.set_xlabel(\"y\")\n",
        "\n",
        "ax2.set_ylabel(\"Density\")\n",
        "ax2.set_ylim(0, 4.)\n",
        "ax2.set_xlabel(\"x\")\n",
        "\n",
        "\n",
        "ax2.set_title(\"Transported t distribution\")\n"
      ],
      "metadata": {
        "colab": {
          "base_uri": "https://localhost:8080/",
          "height": 472
        },
        "id": "jNsLS3pIkxlC",
        "outputId": "5943c18f-3f49-41b0-9c35-ee9568aa93b4"
      },
      "execution_count": 61,
      "outputs": [
        {
          "output_type": "execute_result",
          "data": {
            "text/plain": [
              "Text(0.5, 1.0, 'Transported t distribution')"
            ]
          },
          "metadata": {},
          "execution_count": 61
        },
        {
          "output_type": "display_data",
          "data": {
            "text/plain": [
              "<Figure size 1000x1000 with 2 Axes>"
            ],
            "image/png": "[encoded data removed]"
          },
          "metadata": {}
        }
      ]
    },
    {
      "cell_type": "markdown",
      "source": [
        "# Run one test to comparable with [Table 1 of [1] ](https://inria.hal.science/hal-01240154v1/document)\n",
        "Results are comparable.\n",
        "\n",
        "[1] Botev, Z.I., L’Ecuyer, P.: Efficient probability estimation and simulation of the truncated multivariate student-t distribution. In: 2015 Winter Simulation Conference (WSC), pp. 380–391 (2015). https://doi.org/10.1109/WSC.2015.7408180"
      ],
      "metadata": {
        "id": "Q5bj2IkFOpX3"
      }
    },
    {
      "cell_type": "code",
      "source": [
        "def run_one_cfg_VI(mask_func, Sig, n, nu, r, N, rpts):\n",
        "  vals = []\n",
        "  for i in range(rpts):\n",
        "    X = random_ball(N, n, 1/np.sqrt(r))\n",
        "    Yx = (1-r**2*np.sum(X*X, axis=0)**2)**(-.5)*X\n",
        "\n",
        "    L = np.linalg.cholesky(Sig)\n",
        "    Ls = L@Yx\n",
        "    # spl1 = np.ones(Yx.shape[1])\n",
        "    # spl1[np.logical_not(np.prod(Ls > -1, axis=0))] = 0\n",
        "    vals.append((mask_func(Ls)*np.exp(- VIadj(X, nu))).mean())\n",
        "  return np.array(vals)\n",
        "\n",
        "np.random.seed(0)\n",
        "nu = 10\n",
        "r = .5\n",
        "rpts = 100\n",
        "n_samples = int(1e5)\n",
        "\n",
        "def lb_m1(Ls):\n",
        "    mask = np.ones(Ls.shape[1])\n",
        "    mask[np.logical_not(np.prod(Ls > -1, axis=0))] = 0\n",
        "    return mask\n",
        "\n",
        "for n in [5, 10, 20, 30, 40, 50, 100, 150]:\n",
        "  # for n in [150]:\n",
        "  Sig = np.linalg.inv(0.5*(np.eye(n) + np.ones(n)[:, None]@np.ones(n)[None, :]))\n",
        "  vals = run_one_cfg_VI(lb_m1, Sig, n, nu, r, n_samples, rpts)\n",
        "  print(f\"n={n} mean={vals.mean()}, max={vals.max()}, min={vals.min()} std={vals.std()}, std ratio = {vals.std()/vals.mean()}\")\n"
      ],
      "metadata": {
        "colab": {
          "base_uri": "https://localhost:8080/"
        },
        "id": "B_NBnS8WqGRq",
        "outputId": "85e2deb8-07ba-4d2c-9d94-e386494ba25f"
      },
      "execution_count": 62,
      "outputs": [
        {
          "output_type": "stream",
          "name": "stdout",
          "text": [
            "n=5 mean=0.19791200867889228, max=0.19991713734857633, min=0.19565456545495188 std=0.0009602237587205342, std ratio = 0.004851771073065482\n",
            "n=10 mean=0.032516359456756065, max=0.03363018561640875, min=0.03149588909353675 std=0.0004411277279646065, std ratio = 0.013566332004395144\n",
            "n=20 mean=0.0016359741325828179, max=0.0017820145885686213, min=0.0014967196492969071 std=5.653622745950744e-05, std ratio = 0.03455814265855784\n",
            "n=30 mean=0.00014983018455536843, max=0.00016851213407983445, min=0.00012960901442032492 std=9.846171167577843e-06, std ratio = 0.06571553787240565\n",
            "n=40 mean=2.0781350420564473e-05, max=2.742725553490015e-05, min=1.572662811653162e-05 std=2.3862406944288915e-06, std ratio = 0.11482606501200009\n",
            "n=50 mean=3.721375056066711e-06, max=5.696122405586068e-06, min=2.41792499166586e-06 std=7.005583631448985e-07, std ratio = 0.18825255519537723\n",
            "n=100 mean=6.734937969130631e-09, max=3.246699853848331e-08, min=1.912730446265706e-09 std=4.06817154693983e-09, std ratio = 0.6040399429937087\n",
            "n=150 mean=8.953473336565207e-11, max=4.760185824458385e-10, min=1.0477218459217173e-11 std=8.988536281366378e-11, std ratio = 1.0039161276839879\n"
          ]
        }
      ]
    },
    {
      "cell_type": "markdown",
      "source": [
        "Similar result for $r=1$"
      ],
      "metadata": {
        "id": "2YtiUomaPZQQ"
      }
    },
    {
      "cell_type": "code",
      "source": [
        "np.random.seed(0)\n",
        "nu = 10\n",
        "r = 1.\n",
        "rpts = 100\n",
        "n_samples = int(1e5)\n",
        "\n",
        "for n in [5, 10, 20, 30, 40, 50, 100, 150]:\n",
        "  Sig = np.linalg.inv(0.5*(np.eye(n) + np.ones(n)[:, None]@np.ones(n)[None, :]))\n",
        "  vals = run_one_cfg_VI(lb_m1, Sig, n, nu, r, n_samples, rpts)\n",
        "  print(f\"n={n} mean={vals.mean()}, max={vals.max()}, min={vals.min()} std={vals.std()}, std ratio = {vals.std()/vals.mean()}\")\n"
      ],
      "metadata": {
        "colab": {
          "base_uri": "https://localhost:8080/"
        },
        "id": "EoNbWIZmZBWT",
        "outputId": "7db95b42-daa0-4610-af6a-9cca2be0fe55"
      },
      "execution_count": 63,
      "outputs": [
        {
          "output_type": "stream",
          "name": "stdout",
          "text": [
            "n=5 mean=0.19795935103544443, max=0.20180120079093913, min=0.1946772001426549 std=0.0013037665971254986, std ratio = 0.006586031881323254\n",
            "n=10 mean=0.03242153258242674, max=0.03363954909454968, min=0.03095325037987538 std=0.0004801543857363287, std ratio = 0.014809737464310496\n",
            "n=20 mean=0.0016319217347312235, max=0.0018024381586083655, min=0.0015184733365462316 std=5.591073464673738e-05, std ratio = 0.03426067160993223\n",
            "n=30 mean=0.0001506795260606037, max=0.00017226574943954724, min=0.00012460097968318678 std=9.78091943369802e-06, std ratio = 0.0649120666185538\n",
            "n=40 mean=2.105614320035319e-05, max=2.7168088909084008e-05, min=1.7363580428732444e-05 std=2.072708337056822e-06, std ratio = 0.09843722648229591\n",
            "n=50 mean=3.672599225704963e-06, max=5.211324700146761e-06, min=2.8535268872076684e-06 std=4.6123629285417313e-07, std ratio = 0.12558851769774523\n",
            "n=100 mean=7.852614709875973e-09, max=3.6869591375334305e-08, min=3.0482095843601016e-09 std=4.5285500813409785e-09, std ratio = 0.5766932733431542\n",
            "n=150 mean=8.349597743454558e-11, max=3.720427683663997e-10, min=1.9651057454549186e-11 std=6.469989864699346e-11, std ratio = 0.774886415309207\n"
          ]
        }
      ]
    },
    {
      "cell_type": "markdown",
      "source": [
        "Similar results if $C = \\Sigma^{-1}$"
      ],
      "metadata": {
        "id": "xHSQETOQPeQn"
      }
    },
    {
      "cell_type": "code",
      "source": [
        "def run_one_cfg_VC(mask_func, Sig, n, nu, r, N, rpts):\n",
        "  vals = []\n",
        "\n",
        "  C = la.inv(Sig)\n",
        "  L = np.linalg.cholesky(Sig)\n",
        "  logDetC = -2*np.sum(np.log(np.diagonal(L)))\n",
        "  for i in range(rpts):\n",
        "    X = L@random_ball(N, n, 1/np.sqrt(r))\n",
        "    Yx = ((1-r**2*np.sum(X*(C@X), axis=0)**2)**(-.5))[None, :]*(C@X)\n",
        "    Ls = L@Yx\n",
        "    # spl1 = np.ones(Yx.shape[1])\n",
        "    # spl1[np.logical_not(np.prod(Ls > -1, axis=0))] = 0\n",
        "\n",
        "    vals.append((mask_func(Ls)*np.exp(- VCadj(C, logDetC, X, nu))).mean())\n",
        "  return np.array(vals)\n",
        "\n",
        "nu = 10\n",
        "r = .5\n",
        "rpts = 100\n",
        "n_samples = int(1e5)\n",
        "\n",
        "for n in [5, 10, 20, 30, 40, 50, 100, 150]:\n",
        "  # for n in [5]:\n",
        "  Sig = np.linalg.inv(0.5*(np.eye(n) + np.ones(n)[:, None]@np.ones(n)[None, :]))\n",
        "  vals = run_one_cfg_VC(lb_m1, Sig, n, nu, r, n_samples, rpts)\n",
        "  print(f\"n={n} mean={vals.mean()}, max={vals.max()}, min={vals.min()} std={vals.std()}, std ratio = {vals.std()/vals.mean()}\")\n"
      ],
      "metadata": {
        "colab": {
          "base_uri": "https://localhost:8080/"
        },
        "id": "_lYxEkGsuS46",
        "outputId": "1ed0d2f3-c813-463e-bcd5-51f705f55662"
      },
      "execution_count": 64,
      "outputs": [
        {
          "output_type": "stream",
          "name": "stdout",
          "text": [
            "n=5 mean=0.1981491622946367, max=0.2016763640905345, min=0.19491514573956822 std=0.0013934869544101308, std ratio = 0.007032514991600589\n",
            "n=10 mean=0.032493272330347815, max=0.03371531432365026, min=0.030745085565093786 std=0.0005635560346187099, std ratio = 0.01734377593272944\n",
            "n=20 mean=0.0016304011328802826, max=0.001880946045000189, min=0.0014047677327791318 std=8.612433487356791e-05, std ratio = 0.05282401559757249\n",
            "n=30 mean=0.0001522029551252578, max=0.0002034805833814973, min=0.00011887047544562481 std=1.6731077404835515e-05, std ratio = 0.10992610091615115\n",
            "n=40 mean=2.0367240245050636e-05, max=4.707552831181828e-05, min=1.3556279677962129e-05 std=4.775540909521129e-06, std ratio = 0.23447167373015176\n",
            "n=50 mean=3.7775023178555635e-06, max=9.961895679476744e-06, min=2.052662587895517e-06 std=1.2132107940595888e-06, std ratio = 0.32116745192318297\n",
            "n=100 mean=6.136926547244498e-09, max=2.4013110584871505e-08, min=9.341895777112043e-10 std=4.31581913808801e-09, std ratio = 0.7032541623014583\n",
            "n=150 mean=7.023745872417515e-11, max=5.763646507974626e-10, min=4.396740729833225e-12 std=9.283706362322357e-11, std ratio = 1.3217600025621348\n"
          ]
        }
      ]
    },
    {
      "cell_type": "markdown",
      "source": [
        "# Run for lower bound = 0\n",
        "\n",
        "This corresponds to [Table 2 of [1] ](https://inria.hal.science/hal-01240154v1/document). Good to $n=10$. After that we get $0$.  We have not been able to investigate more, but this may have do with most Python procedures are good to $10^{-15}$, rather than the sampling method."
      ],
      "metadata": {
        "id": "_AOG5RS92oVC"
      }
    },
    {
      "cell_type": "code",
      "source": [
        "np.random.seed(0)\n",
        "nu = 10\n",
        "r = 1.\n",
        "rpts = 100\n",
        "n_samples = int(1e5)\n",
        "\n",
        "def lb_0(Ls):\n",
        "    mask = np.ones(Ls.shape[1])\n",
        "    mask[np.logical_not(np.prod(Ls > 0, axis=0))] = 0\n",
        "    return mask\n",
        "\n",
        "for n in [5, 10, 20]:\n",
        "  # for n in [5]:\n",
        "  Sig = np.linalg.inv(0.5*(np.eye(n) + np.ones(n)[:, None]@np.ones(n)[None, :]))\n",
        "  vals = run_one_cfg_VC(lb_0, Sig, n, nu, r, n_samples, rpts)\n",
        "  print(f\"n={n} mean={vals.mean()}, max={vals.max()}, min={vals.min()} std={vals.std()}, std ratio = {vals.std()/vals.mean()}\")\n"
      ],
      "metadata": {
        "colab": {
          "base_uri": "https://localhost:8080/"
        },
        "id": "tVyzfz4XooeH",
        "outputId": "cbfd19e0-c9c0-438c-a27e-e5de17d5dc56"
      },
      "execution_count": 65,
      "outputs": [
        {
          "output_type": "stream",
          "name": "stdout",
          "text": [
            "n=5 mean=0.001937483979831405, max=0.0022260409668453268, min=0.0017390758450292754 std=9.441446149935478e-05, std ratio = 0.04873044757127256\n",
            "n=10 mean=1.4365958820281438e-07, max=2.261584787566134e-06, min=0.0 std=3.6905648321041844e-07, std ratio = 2.568965203278986\n",
            "n=20 mean=0.0, max=0.0, min=0.0 std=0.0, std ratio = nan\n"
          ]
        },
        {
          "output_type": "stream",
          "name": "stderr",
          "text": [
            "<ipython-input-65-5131cc49f520>:16: RuntimeWarning: invalid value encountered in scalar divide\n",
            "  print(f\"n={n} mean={vals.mean()}, max={vals.max()}, min={vals.min()} std={vals.std()}, std ratio = {vals.std()/vals.mean()}\")\n"
          ]
        }
      ]
    },
    {
      "cell_type": "markdown",
      "source": [
        "Run for another example with bound between $1$ and $3$, corresponding to\n",
        " [Table 3 of [1] ](https://inria.hal.science/hal-01240154v1/document).\n",
        "In this case, $\\Sigma$ is is close to degenerate so using VI is better than VC with $C=\\Sigma^{-1}$."
      ],
      "metadata": {
        "id": "f-KsROphQUXA"
      }
    },
    {
      "cell_type": "code",
      "source": [
        "np.random.seed(0)\n",
        "nu = 10\n",
        "r = .5\n",
        "rpts = 100\n",
        "n_samples = int(1e5)\n",
        "\n",
        "def lb_1_3(Ls):\n",
        "    mask = np.ones(Ls.shape[1])\n",
        "    mask[np.logical_not(np.prod(np.logical_and(Ls > 1, Ls < 3), axis=0))] = 0\n",
        "    return mask\n",
        "\n",
        "for n in [5, 30, 50, 100, 150]:\n",
        "  # for n in [5]:\n",
        "  rho = 0.95\n",
        "  Sig = (1-rho)*np.eye(n) + rho*np.ones(n)[:, None]@np.ones(n)[None, :]\n",
        "  vals = run_one_cfg_VI(lb_1_3, Sig, n, nu, r, n_samples, rpts)\n",
        "  print(f\"n={n} mean={vals.mean()}, max={vals.max()}, min={vals.min()} std={vals.std()}, std ratio = {vals.std()/vals.mean()}\")\n"
      ],
      "metadata": {
        "colab": {
          "base_uri": "https://localhost:8080/"
        },
        "id": "1l1Be9KT28xT",
        "outputId": "917c2c81-8daf-4cb2-92dc-0df3aa52e8ac"
      },
      "execution_count": 66,
      "outputs": [
        {
          "output_type": "stream",
          "name": "stdout",
          "text": [
            "n=5 mean=0.09925101249741008, max=0.10198458743807703, min=0.09704092044587302 std=0.0010779808893455994, std ratio = 0.010861157606565766\n",
            "n=30 mean=0.059898095421006825, max=0.06280747567384279, min=0.05731651661625567 std=0.0010896706998354741, std ratio = 0.018192075927898642\n",
            "n=50 mean=0.05199525535774294, max=0.05434343461831261, min=0.05006639805288003 std=0.0008609209587680009, std ratio = 0.016557683058667696\n",
            "n=100 mean=0.04231360357988278, max=0.04509385272042603, min=0.04024764437158681 std=0.0009235247315839872, std ratio = 0.021825716872364422\n",
            "n=150 mean=0.03743963796025896, max=0.03986508041016948, min=0.03539875543115894 std=0.0008417397992225611, std ratio = 0.02248258383577433\n"
          ]
        }
      ]
    },
    {
      "cell_type": "markdown",
      "source": [
        "Code to parse the output"
      ],
      "metadata": {
        "id": "sOf8zg4ZIXuG"
      }
    },
    {
      "cell_type": "code",
      "source": [
        "tabl1_str =[\n",
        "\"n=5 mean=0.19791200867889228, max=0.19991713734857633, min=0.19565456545495188 std=0.0009602237587205342, std ratio = 0.004851771073065482\",\n",
        "\"n=10 mean=0.032516359456756065, max=0.03363018561640875, min=0.03149588909353675 std=0.0004411277279646065, std ratio = 0.013566332004395144\",\n",
        "\"n=20 mean=0.0016359741325828179, max=0.0017820145885686213, min=0.0014967196492969071 std=5.653622745950744e-05, std ratio = 0.03455814265855784\",\n",
        "\"n=30 mean=0.00014983018455536843, max=0.00016851213407983445, min=0.00012960901442032492 std=9.846171167577843e-06, std ratio = 0.06571553787240565\",\n",
        "\"n=40 mean=2.0781350420564473e-05, max=2.742725553490015e-05, min=1.572662811653162e-05 std=2.3862406944288915e-06, std ratio = 0.11482606501200009\",\n",
        "\"n=50 mean=3.721375056066711e-06, max=5.696122405586068e-06, min=2.41792499166586e-06 std=7.005583631448985e-07, std ratio = 0.18825255519537723\",\n",
        "\"n=100 mean=6.734937969130631e-09, max=3.246699853848331e-08, min=1.912730446265706e-09 std=4.06817154693983e-09, std ratio = 0.6040399429937087\",\n",
        "\"n=150 mean=8.953473336565207e-11, max=4.760185824458385e-10, min=1.0477218459217173e-11 std=8.988536281366378e-11, std ratio = 1.0039161276839879\"]\n",
        "ns, avgs, std = [], [], []\n",
        "\n",
        "for st in tabl1_str:\n",
        "  a = st.split()\n",
        "  ns.append(int(a[0].split(\"=\")[1]))\n",
        "  avgs.append(float(a[1].split(\"=\")[1][:-1]))\n",
        "  std.append(float(a[4].split(\"=\")[1][:-1]))\n",
        "\n",
        "print(\"n &\" + \"&\".join(f\" {c:d}\" for c in ns ) + \"\\\\\\\\\")\n",
        "print(\"Probability &\" +\"&\".join(f\" {c:#.3g}\" for c in avgs ) + \"\\\\\\\\\")\n",
        "print(\"Std &\" + \"&\".join(f\" {std[i]:#.3g}\" for i in range(len(std)) ) + \"\\\\\\\\\")\n",
        "\n"
      ],
      "metadata": {
        "colab": {
          "base_uri": "https://localhost:8080/"
        },
        "id": "11rzoTMjG2mF",
        "outputId": "1b7f3b13-4e29-4393-8568-b9183f5015f7"
      },
      "execution_count": 67,
      "outputs": [
        {
          "output_type": "stream",
          "name": "stdout",
          "text": [
            "n & 5& 10& 20& 30& 40& 50& 100& 150\\\\\n",
            "Probability & 0.198& 0.0325& 0.00164& 0.000150& 2.08e-05& 3.72e-06& 6.73e-09& 8.95e-11\\\\\n",
            "Std & 0.000960& 0.000441& 5.65e-05& 9.85e-06& 2.39e-06& 7.01e-07& 4.07e-09& 8.99e-11\\\\\n"
          ]
        }
      ]
    },
    {
      "cell_type": "code",
      "source": [
        "\n",
        "\n",
        "  # print(f\"{ns[i]} & {avgs[i]} & {maxs[i]} & {mins[i]}\\\\\\\\\")"
      ],
      "metadata": {
        "id": "VV-d2Vv8J_7N"
      },
      "execution_count": 68,
      "outputs": []
    },
    {
      "cell_type": "markdown",
      "source": [
        "Table 2 in the paper, table 3 in [1]"
      ],
      "metadata": {
        "id": "j6KezJ7jpxVq"
      }
    },
    {
      "cell_type": "code",
      "source": [
        "tabl2_str =[\n",
        "\"n=5 mean=0.09925101249741008, max=0.10198458743807703, min=0.09704092044587302 std=0.0010779808893455994, std ratio = 0.010861157606565766\",\n",
        "\"n=30 mean=0.059898095421006825, max=0.06280747567384279, min=0.05731651661625567 std=0.0010896706998354741, std ratio = 0.018192075927898642\",\n",
        "\"n=50 mean=0.05199525535774294, max=0.05434343461831261, min=0.05006639805288003 std=0.0008609209587680009, std ratio = 0.016557683058667696\",\n",
        "\"n=100 mean=0.04231360357988278, max=0.04509385272042603, min=0.04024764437158681 std=0.0009235247315839872, std ratio = 0.021825716872364422\",\n",
        "\"n=150 mean=0.03743963796025896, max=0.03986508041016948, min=0.03539875543115894 std=0.0008417397992225611, std ratio = 0.02248258383577433\"]\n",
        "ns, avgs, std = [], [], []\n",
        "for st in tabl2_str:\n",
        "  a = st.split()\n",
        "  ns.append(int(a[0].split(\"=\")[1]))\n",
        "  avgs.append(float(a[1].split(\"=\")[1][:-1]))\n",
        "  std.append(float(a[4].split(\"=\")[1][:-1]))\n",
        "print(\"n &\" + \"&\".join(f\" {c:d}\" for c in ns ) + \"\\\\\\\\\")\n",
        "print(\"Probability &\" +\"&\".join(f\" {c:#.3g}\" for c in avgs ) + \"\\\\\\\\\")\n",
        "print(\"Std &\" + \"&\".join(f\" {std[i]:#.3g}\" for i in range(len(std)) ) + \"\\\\\\\\\")\n"
      ],
      "metadata": {
        "colab": {
          "base_uri": "https://localhost:8080/"
        },
        "id": "LnhZy0lgdAfy",
        "outputId": "b50c643c-a0ec-4ab7-fef4-517b94fd9d01"
      },
      "execution_count": 69,
      "outputs": [
        {
          "output_type": "stream",
          "name": "stdout",
          "text": [
            "n & 5& 30& 50& 100& 150\\\\\n",
            "Probability & 0.0993& 0.0599& 0.0520& 0.0423& 0.0374\\\\\n",
            "Std & 0.00108& 0.00109& 0.000861& 0.000924& 0.000842\\\\\n"
          ]
        }
      ]
    }
  ]
}