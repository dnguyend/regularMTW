{
  "nbformat": 4,
  "nbformat_minor": 0,
  "metadata": {
    "colab": {
      "provenance": [],
      "authorship_tag": "ABX9TyMHFRVP+nNSJi6C//31OMLW",
      "include_colab_link": true
    },
    "kernelspec": {
      "name": "python3",
      "display_name": "Python 3"
    },
    "language_info": {
      "name": "python"
    }
  },
  "cells": [
    {
      "cell_type": "markdown",
      "metadata": {
        "id": "view-in-github",
        "colab_type": "text"
      },
      "source": [
        "<a href=\"https://colab.research.google.com/github/dnguyend/regularMTW/blob/main/colab/SINHHomogeneousPower.ipynb\" target=\"_parent\"><img src=\"https://colab.research.google.com/assets/colab-badge.svg\" alt=\"Open In Colab\"/></a>"
      ]
    },
    {
      "cell_type": "markdown",
      "source": [
        "## Potential for cost with $s(u) = p_0e^{-ru} + p_1e^{ru}$ of order $\\alpha > 1$\n",
        "$\\newcommand{\\tphi}{\\underline{\\phi}}$\n",
        "Assume $\\tphi$ is absolutely-homogeneous of order $\\alpha > 1$ and $grad_{\\tphi}$ is invertible. Then $\\tphi$ is $c$-convex inside $x^T grad_{\\tphi}(x) < \\frac{1}{r}$\n",
        "\n",
        "We verify numerically the duals and the related inequalities\n"
      ],
      "metadata": {
        "id": "FAAgRbEYAiQO"
      }
    },
    {
      "cell_type": "code",
      "source": [
        "!pip install jaxopt"
      ],
      "metadata": {
        "colab": {
          "base_uri": "https://localhost:8080/"
        },
        "id": "CBtuMJSssfky",
        "outputId": "58449b5e-70d4-447f-a7e0-2678d51a307f"
      },
      "execution_count": 1,
      "outputs": [
        {
          "output_type": "stream",
          "name": "stdout",
          "text": [
            "Collecting jaxopt\n",
            "  Downloading jaxopt-0.8.2-py3-none-any.whl (170 kB)\n",
            "\u001b[?25l     \u001b[90m━━━━━━━━━━━━━━━━━━━━━━━━━━━━━━━━━━━━━━━━\u001b[0m \u001b[32m0.0/170.3 kB\u001b[0m \u001b[31m?\u001b[0m eta \u001b[36m-:--:--\u001b[0m\r\u001b[2K     \u001b[91m━━━━━━━━━━━━━━━━\u001b[0m\u001b[91m╸\u001b[0m\u001b[90m━━━━━━━━━━━━━━━━━━━━━━━\u001b[0m \u001b[32m71.7/170.3 kB\u001b[0m \u001b[31m2.1 MB/s\u001b[0m eta \u001b[36m0:00:01\u001b[0m\r\u001b[2K     \u001b[90m━━━━━━━━━━━━━━━━━━━━━━━━━━━━━━━━━━━━━━━━\u001b[0m \u001b[32m170.3/170.3 kB\u001b[0m \u001b[31m2.7 MB/s\u001b[0m eta \u001b[36m0:00:00\u001b[0m\n",
            "\u001b[?25hRequirement already satisfied: jax>=0.2.18 in /usr/local/lib/python3.10/dist-packages (from jaxopt) (0.4.23)\n",
            "Requirement already satisfied: jaxlib>=0.1.69 in /usr/local/lib/python3.10/dist-packages (from jaxopt) (0.4.23+cuda12.cudnn89)\n",
            "Requirement already satisfied: numpy>=1.18.4 in /usr/local/lib/python3.10/dist-packages (from jaxopt) (1.23.5)\n",
            "Requirement already satisfied: scipy>=1.0.0 in /usr/local/lib/python3.10/dist-packages (from jaxopt) (1.11.4)\n",
            "Requirement already satisfied: ml-dtypes>=0.2.0 in /usr/local/lib/python3.10/dist-packages (from jax>=0.2.18->jaxopt) (0.2.0)\n",
            "Requirement already satisfied: opt-einsum in /usr/local/lib/python3.10/dist-packages (from jax>=0.2.18->jaxopt) (3.3.0)\n",
            "Installing collected packages: jaxopt\n",
            "Successfully installed jaxopt-0.8.2\n"
          ]
        }
      ]
    },
    {
      "cell_type": "code",
      "source": [
        "import jaxopt"
      ],
      "metadata": {
        "id": "elqDe4SaPPjG"
      },
      "execution_count": 4,
      "outputs": []
    },
    {
      "cell_type": "code",
      "execution_count": 5,
      "metadata": {
        "id": "pWl5ZRe1woWg"
      },
      "outputs": [],
      "source": [
        "import jax\n",
        "import jax.numpy as jnp\n",
        "import matplotlib.pyplot as plt\n",
        "pp = jnp.array([0.1648312216190048, -1.2214846630837304, -0.2614981455243139, 1.2214846630837304])\n",
        "p0 = pp[0]\n",
        "p2 = pp[2]\n",
        "r = pp[3]\n",
        "pw = 3.\n",
        "cc = jnp.array([1.49862139, 0.05708533, 0.09740697, 0.23343014])\n",
        "\n",
        "def uf0(s):\n",
        "    return 1/r*jnp.log((-s+jnp.sqrt(s**2-4*p0*p2))/(2*jnp.abs(p2)))\n",
        "\n",
        "def uf1(s):\n",
        "  return -1/(r*jnp.sqrt(s**2-4*p0*p2))\n",
        "\n",
        "def tPhi(x):\n",
        "  return jnp.sum(cc*jnp.abs(x)**pw)\n",
        "\n",
        "def gradtPhi(x):\n",
        "  return pw*cc*jnp.abs(x)**(pw-1)*jnp.sign(x)\n",
        "\n",
        "def gradtPhiInv(y):\n",
        "  return (jnp.abs(y)/(pw*cc))**(1/(pw-1))*jnp.sign(y)\n",
        "\n",
        "def HessPhi(x, eta):\n",
        "  return pw*(pw-1)*cc*x**(pw-2)*eta\n"
      ]
    },
    {
      "cell_type": "markdown",
      "source": [
        "# Some helper functions\n",
        "* al_func defines the equation used to define one side of the optimal map, and al_solves it. pw is the vairable for $\\alpha$"
      ],
      "metadata": {
        "id": "1BvFh94ySHUO"
      }
    },
    {
      "cell_type": "code",
      "source": [
        "def grand(key, dims):\n",
        "  key, sk = jax.random.split(key)\n",
        "  return jax.random.normal(sk, dims), key\n",
        "\n",
        "def al_func(t, al, a, b, c):\n",
        "    return a*t**(2*al) + b*t**(2*al-2) + c\n",
        "\n",
        "def al_solve(al, a, b, c):\n",
        "    # solve for the unique positive root of a*t**(al) + b*t**(al-1) + c = 0\n",
        "    # with al > 1, a >=0, b > 0, c <0\n",
        "    # change variable a*z**al + b*z**(al-1) + c = 0\n",
        "    # newton step with some scaling to be in positive region\n",
        "    # if al = 1 need b+c < 0 and a !=0\n",
        "    z = 1.\n",
        "    err = a*z**al + b*z**(al-1) + c\n",
        "    for i in range(10):\n",
        "       step = - err/(al*a*z**(al-1) + (al-1)*b*z**(al-2))\n",
        "       if z+step < 0:\n",
        "           z = 1e-3\n",
        "       else:\n",
        "          z = z + step\n",
        "       err = a*z**al + b*z**(al-1) + c\n",
        "       # print(err)\n",
        "       if abs(err) < 1e-10:\n",
        "          break\n",
        "    return jnp.sqrt(z)\n",
        "\n",
        "def d_a_al_solve(al, a, b, c, t):\n",
        "  return - t**(2*al)/(2*al*a*t**(2*al-1)+(2*al-2)*b*t**(2*al-3))\n",
        "\n",
        "ss = al_solve(1.2, 1., 3., -2)\n",
        "print(al_func(ss, 1.2, 1., 3., -2))\n"
      ],
      "metadata": {
        "colab": {
          "base_uri": "https://localhost:8080/"
        },
        "id": "CdBYbpsYPURu",
        "outputId": "2562838a-6558-4b81-e291-4c8ec4fb859d"
      },
      "execution_count": 6,
      "outputs": [
        {
          "output_type": "stream",
          "name": "stdout",
          "text": [
            "0.0\n"
          ]
        }
      ]
    },
    {
      "cell_type": "markdown",
      "source": [
        "## Check derivative of a_solve"
      ],
      "metadata": {
        "id": "u7h9sN3Vax4j"
      }
    },
    {
      "cell_type": "code",
      "source": [
        "dlt = 1e-4\n",
        "ss = al_solve(1.2, 1., 3., -2)\n",
        "dt = (al_solve(1.2, 1.+dlt, 3., -2) - al_solve(1.2, 1., 3., -2))/dlt\n",
        "print(dt)\n",
        "# print(1.*ss**(2*1.2) + 3.*ss**(2*1.2-2) -2)\n",
        "# print(dlt*ss**(2*1.2) + 1.*2*1.2*ss**(2*1.2-1)*dt + 3.*(2*1.2-2)*ss**(2*1.2-3)*dt)\n",
        "\n",
        "def da_al_solve(al, a, b, c, t):\n",
        "  return - t**(2*al)/(2*al*a*t**(2*al-1)+(2*al-2)*b*t**(2*al-3))\n",
        "\n",
        "d_a_al_solve(1.2, 1, 3., -2, ss)"
      ],
      "metadata": {
        "colab": {
          "base_uri": "https://localhost:8080/"
        },
        "id": "vFFnAh1Xyr01",
        "outputId": "1e04688e-54cb-4eb4-a593-9842543298cc"
      },
      "execution_count": 7,
      "outputs": [
        {
          "output_type": "stream",
          "name": "stdout",
          "text": [
            "-0.02503395\n"
          ]
        },
        {
          "output_type": "execute_result",
          "data": {
            "text/plain": [
              "Array(-0.02491712, dtype=float32, weak_type=True)"
            ]
          },
          "metadata": {},
          "execution_count": 7
        }
      ]
    },
    {
      "cell_type": "code",
      "source": [
        "\n",
        "def Lfunc(x, y):\n",
        "   return uf0(jnp.sum(x*y)) + tPhi(x)\n",
        "\n",
        "def gradLy(x, y):\n",
        "    s = jnp.sum(x*y)\n",
        "    return uf1(s)*y + gradtPhi(x)\n",
        "\n",
        "def cexp(x, nug):\n",
        "  \"\"\"\n",
        "  \"\"\"\n",
        "  xnug = jnp.sum(x*nug)\n",
        "  return 2*r*jnp.sqrt(-p0*p2)*((1+r*xnug)/(1-r*xnug))**0.5/(1+r*xnug)*nug\n",
        "\n",
        "def yopt_in_x(x):\n",
        "  \"\"\"optimal map\n",
        "  defined if tPhi(x) < 1/r\n",
        "  range is F(gradFInv(y)) >= (2*r*(-p0*p2)**.5/pw)**(pw/(pw-1))\n",
        "  \"\"\"\n",
        "  return 2*r*jnp.sqrt(-p0*p2)/(1-r**2*pw**2*tPhi(x)**2)**0.5*gradtPhi(x)\n",
        "\n",
        "\n",
        "def xopt_in_y(y):\n",
        "  \"\"\"inverse optimal map\n",
        "  range is x gradphi(x) < 1/r\n",
        "  \"\"\"\n",
        "  xdir = gradtPhiInv(y)\n",
        "  s = jnp.sum(y*xdir)\n",
        "  t = al_solve(pw, s**2, -4*p0*p2, -1/r**2)\n",
        "  return t*xdir"
      ],
      "metadata": {
        "id": "uXAQcAaBM-zO"
      },
      "execution_count": 8,
      "outputs": []
    },
    {
      "cell_type": "markdown",
      "source": [
        "Check xopt_y is invert of yopt_x. For invertibility, we need $\\tphi(x) < \\frac{1}{r\\alpha}$"
      ],
      "metadata": {
        "id": "gTBFHFusbkZU"
      }
    },
    {
      "cell_type": "code",
      "source": [
        "key = jax.random.PRNGKey(0)\n",
        "n = 4\n",
        "\n",
        "for i in range(5):\n",
        "  xa, key = grand(key, (n,))\n",
        "  xa = .4*xa\n",
        "\n",
        "  # print(gradtPhi(gradtPhiInv(x)))\n",
        "\n",
        "  xb = xopt_in_y(yopt_in_x(xa))\n",
        "  print(xa, xb, xa-xb, tPhi(xa)-1/(r*pw))\n",
        "  if (not jnp.any(jnp.isnan(xb))) and (not jnp.allclose(xa, xb)):\n",
        "    print(\"BAD\")\n",
        "    break\n"
      ],
      "metadata": {
        "colab": {
          "base_uri": "https://localhost:8080/"
        },
        "id": "8bbo9cTgl__m",
        "outputId": "5e8d5b69-0338-4867-ff85-7b3502cc2eb0"
      },
      "execution_count": 15,
      "outputs": [
        {
          "output_type": "stream",
          "name": "stdout",
          "text": [
            "[ 0.45515138 -0.05732573 -0.23661454  0.3178649 ] [ 0.45515135 -0.05732573 -0.23661456  0.31786492] [ 2.9802322e-08  0.0000000e+00  1.4901161e-08 -2.9802322e-08] -0.12278822\n",
            "[-0.02642903  0.31711265  0.4712014  -0.11868888] [-0.02642903  0.31711265  0.47120136 -0.11868888] [1.8626451e-09 0.0000000e+00 2.9802322e-08 0.0000000e+00] -0.26046276\n",
            "[-0.88205785 -0.56554955 -0.20421378 -0.06932341] [nan nan nan nan] [nan nan nan nan] 0.7667914\n",
            "[ 0.16512908  0.49673113 -0.04761466  0.04782562] [ 0.16512907  0.4967311  -0.04761466  0.04782562] [1.4901161e-08 2.9802322e-08 0.0000000e+00 3.7252903e-09] -0.25911146\n",
            "[-0.34447813 -0.03593322  0.6477703   0.07359286] [-0.34447813 -0.03593322  0.6477703   0.07359286] [ 0.0000000e+00 -3.7252903e-09  0.0000000e+00  7.4505806e-09] -0.18506023\n"
          ]
        }
      ]
    },
    {
      "cell_type": "markdown",
      "source": [
        "# The Jacobian of xopt_in_y (inverse of the optimal map $T$)"
      ],
      "metadata": {
        "id": "qSdhYuwsdVSs"
      }
    },
    {
      "cell_type": "code",
      "source": [
        "def jac_xopt_in_y(y, eta):\n",
        "  \"\"\"inverse optimal map\n",
        "  range is x gradphi(x) < 1/r\n",
        "  \"\"\"\n",
        "  xdir, dxdir = jax.jvp(gradtPhiInv, (y,), (eta,))\n",
        "  if jnp.allclose(y, 0):\n",
        "    dxdir = jnp.zeros(n)\n",
        "  # xdir = jtmp[0]\n",
        "  #  dxdir =\n",
        "  s = jnp.sum(y*xdir)\n",
        "  t = al_solve(pw, s**2, -4*p0*p2, -1/r**2)\n",
        "  # print(da_al_solve(pw, s**2, -4*p0*p2, -1/r**2, t))\n",
        "  dt = da_al_solve(pw, s**2, -4*p0*p2, -1/r**2, t)*2*s*(jnp.sum(eta*xdir)+jnp.sum(y*dxdir))\n",
        "  # print(da_al_solve(pw, s**2, -4*p0*p2, -1/r**2, t)*2*s)\n",
        "  # print(dxdir)\n",
        "  return dt*xdir + t*dxdir\n",
        "\n",
        "y, key = grand(key, (n,))\n",
        "eta, key = grand(key, (n,))\n",
        "print((xopt_in_y(y+dlt*eta) - xopt_in_y(y))/dlt)\n",
        "jac_xopt_in_y(y, eta)\n",
        "# print((xopt_in_y(dlt*eta) - xopt_in_y(jnp.zeros(n)))/dlt)\n",
        "jac_xopt_in_y(jnp.zeros(n), eta)"
      ],
      "metadata": {
        "colab": {
          "base_uri": "https://localhost:8080/"
        },
        "id": "p5hrue6_4vL1",
        "outputId": "1e1ed74e-3bf5-49c4-9337-b088d4773362"
      },
      "execution_count": 17,
      "outputs": [
        {
          "output_type": "stream",
          "name": "stdout",
          "text": [
            "[-0.04708767 -0.56385994  0.30517578 -0.38206577]\n"
          ]
        },
        {
          "output_type": "execute_result",
          "data": {
            "text/plain": [
              "Array([0., 0., 0., 0.], dtype=float32)"
            ]
          },
          "metadata": {},
          "execution_count": 17
        }
      ]
    },
    {
      "cell_type": "code",
      "source": [
        "\n",
        "x = .1*jnp.array([0.94408732,  0.57970352,  0.08071361, -0.74484489])\n",
        "print(xopt_in_y(yopt_in_x(x)))\n",
        "print(x)\n",
        "\n",
        "# print(\"1\", yopt_in_x(x)/gradtPhi(x))\n",
        "# print(\"2\", gradtPhi(x))\n",
        "\n",
        "y1 = cexp(x, gradtPhi(x))\n",
        "y1a = yopt_in_x(x)\n",
        "print(y1 - y1a)\n"
      ],
      "metadata": {
        "colab": {
          "base_uri": "https://localhost:8080/"
        },
        "id": "n_rq6N-4QfnW",
        "outputId": "64949833-a481-4838-f6f2-0d5cc06bda86"
      },
      "execution_count": 18,
      "outputs": [
        {
          "output_type": "stream",
          "name": "stdout",
          "text": [
            "[ 0.09440874  0.05797035  0.00807136 -0.07448449]\n",
            "[ 0.09440874  0.05797035  0.00807136 -0.07448449]\n",
            "[0. 0. 0. 0.]\n"
          ]
        }
      ]
    },
    {
      "cell_type": "markdown",
      "source": [
        "Now do cases.\n",
        "For $\\psi(y)$ there is one cases:\n",
        "* everything corresponds to $x_{opt}$\n",
        "\n",
        "For $\\phi^{cc}(x)$, there are two cases:\n",
        "\n",
        "* $\\phi(x) < \\frac{1}{r}$, corresponding to $y = Tx$, $T$ is the optimal map,  $\\phi^{cc}(x) < \\phi(x)$\n",
        "* $\\phi(x) >= \\frac{1}{r}$, no optimal $y$, but a limit point $-u(x^Tz_{opt}) - \\psi(z_{opt})$ with $\\phi(z) \\to \\frac{1}{\\alpha r}$,\n",
        "$$\\phi^{cc}(x) = \\frac{1}{r\\alpha }(\\log(r\\alpha x) + 1).$$"
      ],
      "metadata": {
        "id": "5ckVDvf23N47"
      }
    },
    {
      "cell_type": "markdown",
      "source": [
        "Compute $\\psi$ by the formula and then by an optimizer to verify"
      ],
      "metadata": {
        "id": "C5MKusUhdxgb"
      }
    },
    {
      "cell_type": "code",
      "source": [
        "def psi_opt(y, max_iter=10):\n",
        "  def L(x, y):\n",
        "    return uf0(jnp.sum(x*y)) + tPhi(x)\n",
        "  x0 = .2*jnp.ones(n)\n",
        "  solver = jaxopt.LBFGS(fun=L, maxiter=max_iter)\n",
        "  ret = solver.run(x0, y=y)\n",
        "  return -ret.state.value\n",
        "def psi(y):\n",
        "    xopt = xopt_in_y(y)\n",
        "    return - uf0(jnp.sum(xopt*y)) - tPhi(xopt)\n",
        "\n",
        "\n",
        "y = jnp.arange(n)\n",
        "\n",
        "print(psi_opt(y) )\n",
        "\n",
        "psi(y)\n",
        "\n",
        "y, _  = grand(key, (n,))\n",
        "y *= .3\n",
        "\n",
        "print(psi_opt(y), 10)\n",
        "print(psi(y))"
      ],
      "metadata": {
        "id": "cH6Y7z612SdZ",
        "colab": {
          "base_uri": "https://localhost:8080/"
        },
        "outputId": "1f769e57-9dbd-40da-e9c2-a2f9d1906f21"
      },
      "execution_count": 21,
      "outputs": [
        {
          "output_type": "stream",
          "name": "stdout",
          "text": [
            "2.5844443\n",
            "1.4519486 10\n",
            "1.4519489\n"
          ]
        }
      ]
    },
    {
      "cell_type": "markdown",
      "source": [
        "Check the inequality for $\\tphi^c$"
      ],
      "metadata": {
        "id": "YzWp5p_Pd5-D"
      }
    },
    {
      "cell_type": "code",
      "source": [
        "\n",
        "for i in range(1000):\n",
        "  x1, _  = grand(key, (n,))\n",
        "  y, _  = grand(key, (n,))\n",
        "  s = uf0(jnp.sum(x1*y)) + tPhi(x1) + psi(y)\n",
        "  if s < 0:\n",
        "    print(\"BAD\", s)\n",
        "    break\n"
      ],
      "metadata": {
        "id": "r8aLbtJ0CMK1"
      },
      "execution_count": 22,
      "outputs": []
    },
    {
      "cell_type": "markdown",
      "source": [
        "Now $\\tphi^{cc}$, by our formula, and by an optimizer"
      ],
      "metadata": {
        "id": "_qdifnwoeEiT"
      }
    },
    {
      "cell_type": "code",
      "source": [
        "def phicc(x):\n",
        "  if tPhi(x) < 1/r:\n",
        "    return tPhi(x)\n",
        "  else:\n",
        "    return 1/(r*pw)*(jnp.log(r*pw*tPhi(x))+1)\n",
        "\n",
        "def func1(y, x):\n",
        "    xopt = xopt_in_y(y)\n",
        "    return uf0(jnp.sum(x*y))  - uf0(jnp.sum(xopt*y)) - tPhi(xopt)\n",
        "\n",
        "def grad_func1(y, x):\n",
        "    xopt = xopt_in_y(y)\n",
        "    return uf1(jnp.sum(x*y))*x  \\\n",
        "    - uf1(jnp.sum(xopt*y))*xopt \\\n",
        "    - uf1(jnp.sum(xopt*y))*jac_xopt_in_y(y, y) \\\n",
        "    - jac_xopt_in_y(y, gradtPhi(xopt))\n",
        "\n",
        "def phicc_opt(x, N):\n",
        "  def prox_func(y, x):\n",
        "      return jax.grad(lambda y: func1(y, x))(y)\n",
        "  y = jnp.zeros(n)\n",
        "  c = .5e-1\n",
        "  for _ in range(N):\n",
        "    prx = grad_func1(y, x)\n",
        "    if jnp.any(jnp.isnan(prx)):\n",
        "      print(\"NAN\", prx, y, x)\n",
        "\n",
        "    y = y - c*prx\n",
        "    #print(\"*\", -func(y, x))\n",
        "    #print(\"**\", uf0(jnp.sum(x*y))  + psi(y))\n",
        "  return -func1(y, x)\n",
        "\n"
      ],
      "metadata": {
        "id": "Kk07V5p4GLTR"
      },
      "execution_count": 24,
      "outputs": []
    },
    {
      "cell_type": "markdown",
      "source": [
        "some unused codes"
      ],
      "metadata": {
        "id": "ph_r_BqYeqJL"
      }
    },
    {
      "cell_type": "code",
      "source": [
        "# @title\n",
        "def grad_func1(y, x):\n",
        "    xopt = xopt_in_y(y)\n",
        "    return uf1(jnp.sum(x*y))*x  \\\n",
        "    - uf1(jnp.sum(xopt*y))*xopt \\\n",
        "    - uf1(jnp.sum(xopt*y))*jac_xopt_in_y(y, y) \\\n",
        "    - jac_xopt_in_y(y, gradtPhi(xopt))\n",
        "\n",
        "dlt = 1e-3\n",
        "print(jnp.sum(grad_func1(y, x)*eta))\n",
        "print((func1(y+dlt*eta, x)-func1(y, x))/dlt)\n",
        "# jac_xopt_in_y(y, eta)\n",
        "print(phicc(xx1))\n",
        "phicc_opt(xx1, N=1000)\n",
        "# grad_func1(jnp.zeros(n), xx1)\n",
        "# jac_xopt_in_y(jnp.zeros(n), jnp.zeros(n))\n",
        "# jax.grad(lambda y: func1(y, xx1))(jnp.zeros(n))"
      ],
      "metadata": {
        "id": "Zti4EAH9xLtG",
        "cellView": "form"
      },
      "execution_count": null,
      "outputs": []
    },
    {
      "cell_type": "markdown",
      "source": [
        "Test $\\tphi^{cc}$ by the formula is always not worse, and close to value from optimizer"
      ],
      "metadata": {
        "id": "CoptmYNUepFk"
      }
    },
    {
      "cell_type": "code",
      "source": [
        "for i in range(1000):\n",
        "  xx1, key  = grand(key, (n,))\n",
        "  y, key  = grand(key, (n,))\n",
        "  s = uf0(jnp.sum(xx1*y)) + tPhi(xx1) + psi(y)\n",
        "  if s < 0:\n",
        "    print(\"BAD\", s)\n",
        "    break\n",
        "  val1 = phicc(xx1)\n",
        "  val2 = phicc_opt(xx1, N=200)\n",
        "  print(val1, val2)\n",
        "  if val1 < val2:\n",
        "    print('BD2', val1, val2)\n",
        "    break\n",
        "\n",
        "\n",
        "# F(gradFInv(yy1))**(2-2/pw)\n",
        "# print(psi(yy1))\n",
        "# 4*r**2*p0*p2/pw**2 + F(gradFInv(yy1))**(2-2/pw)\n",
        "# 4*r**2*p0*p2/pw**2 + F(gradFInv(y))**(2-2/pw)"
      ],
      "metadata": {
        "colab": {
          "base_uri": "https://localhost:8080/"
        },
        "id": "VgNl4Zg2I4tR",
        "outputId": "7baeeefa-5633-4128-ae76-039e2fd109f4"
      },
      "execution_count": 26,
      "outputs": [
        {
          "output_type": "stream",
          "name": "stdout",
          "text": [
            "1.3296468 1.2937222\n",
            "0.5032124 0.43299294\n",
            "0.68692267 0.66056335\n",
            "0.75698197 0.52511364\n",
            "1.346364 1.3091965\n",
            "0.6129313 0.59135556\n",
            "0.4516207 0.40248188\n",
            "1.1864575 1.1501479\n",
            "1.1232792 1.0875063\n",
            "1.1591604 1.1227174\n",
            "0.6388596 0.48137903\n",
            "0.9078086 0.89449584\n",
            "0.11392354 0.11392342\n",
            "0.58395326 0.57338417\n",
            "0.8002012 0.7684451\n",
            "1.176072 1.1396219\n",
            "0.17890972 0.17532444\n",
            "0.49291164 0.42205942\n",
            "0.6104025 0.583619\n",
            "1.2050675 1.1695542\n",
            "0.061530784 0.06153086\n",
            "BD2 0.061530784 0.06153086\n"
          ]
        }
      ]
    },
    {
      "cell_type": "markdown",
      "source": [
        "This takes long - to numerically verify that $\\phi^{cc}$ by the formula is slightly better than $\\phi^{cc}$ by the optimizer, the later is actually an unattainable supremum."
      ],
      "metadata": {
        "id": "LpzHJ2Xsj9EZ"
      }
    },
    {
      "cell_type": "code",
      "source": [
        "for i in range(500):\n",
        "  xx1, key  = grand(key, (n,))\n",
        "  y, key  = grand(key, (n,))\n",
        "  s = uf0(jnp.sum(xx1*y)) + tPhi(xx1) + psi(y)\n",
        "  if s < 0:\n",
        "    print(\"BAD\", s)\n",
        "    break\n",
        "  val1 = phicc(xx1)\n",
        "  val2 = phicc_opt(xx1, N=100)\n",
        "  print(val1, val2)\n",
        "  if val1 < val2:\n",
        "    print('BD2', val1, val2)\n",
        "    if jnp.abs(val1-val2)> 1e-4:\n",
        "      break\n"
      ],
      "metadata": {
        "colab": {
          "base_uri": "https://localhost:8080/"
        },
        "id": "rNPXuW7cpKdZ",
        "outputId": "9308c613-1377-40c2-ca79-f2c73750c302"
      },
      "execution_count": 27,
      "outputs": [
        {
          "output_type": "stream",
          "name": "stdout",
          "text": [
            "0.96307987 0.937008\n",
            "0.5361524 0.4397688\n",
            "0.91269356 0.88650334\n",
            "0.61805326 0.60334194\n",
            "0.9600341 0.9101348\n",
            "0.61280113 0.46255112\n",
            "0.67384744 0.6469767\n",
            "0.7583858 0.53124964\n",
            "1.1069251 1.0595607\n",
            "0.32683098 0.30527666\n",
            "1.096282 1.0443336\n",
            "0.7731905 0.7387986\n",
            "1.2794398 1.2262731\n",
            "0.8186334 0.7769756\n",
            "0.6032765 0.5651525\n",
            "0.5986661 0.4539407\n",
            "0.667712 0.48905623\n",
            "0.28507006 0.27603304\n",
            "0.3598184 0.33586454\n",
            "0.93682444 0.9108948\n",
            "0.17288439 0.17224789\n",
            "0.13314621 0.13314599\n",
            "1.1656659 1.1131141\n",
            "0.23695847 0.23117837\n",
            "0.78023475 0.73915493\n",
            "1.406173 1.3531568\n",
            "0.31260794 0.30447817\n",
            "0.26200187 0.25674757\n",
            "0.18309027 0.18309015\n",
            "0.67154276 0.6283815\n",
            "0.9587801 0.9217937\n",
            "0.30688193 0.29865804\n",
            "0.60813886 0.56989396\n",
            "1.0661086 1.014945\n",
            "0.6822185 0.5043715\n",
            "0.66875106 0.62407255\n",
            "1.6053097 1.5512254\n",
            "0.81040204 0.7822519\n",
            "1.1398015 1.0873744\n",
            "0.7854798 0.5363257\n",
            "0.9454259 0.8947475\n",
            "0.01142715 -0.0025195926\n",
            "1.1237799 1.0723176\n",
            "0.5828395 0.44782406\n",
            "0.06436152 0.06372694\n",
            "0.78982973 0.7618093\n",
            "0.7806953 0.5386643\n",
            "0.41722417 0.37701842\n",
            "0.9031536 0.85868657\n",
            "0.43742734 0.37488237\n",
            "1.4669148 1.413757\n",
            "0.7201433 0.6751492\n",
            "0.58398026 0.5420058\n",
            "1.0956721 1.0563232\n",
            "0.15103158 0.14550446\n",
            "0.11253905 0.109032765\n",
            "0.8158578 0.77809304\n",
            "0.7774792 0.7388577\n",
            "0.075995654 0.07599567\n",
            "BD2 0.075995654 0.07599567\n",
            "0.11535161 0.11535113\n",
            "1.2980096 1.2447344\n",
            "0.8689839 0.8230121\n",
            "0.86531615 0.8261343\n",
            "0.62823266 0.5849304\n",
            "0.93076587 0.8831862\n",
            "0.28987154 0.28373554\n",
            "1.1965986 1.1531798\n",
            "0.7498009 0.5336829\n",
            "0.66173464 0.4880937\n",
            "0.049379215 0.049379207\n",
            "0.91785985 0.8684013\n",
            "1.518218 1.4643033\n",
            "0.19358206 0.193105\n",
            "0.65319234 0.63054276\n",
            "1.0062402 0.98030126\n",
            "1.0759509 1.0248495\n",
            "0.87343615 0.82728744\n",
            "0.7412302 0.5049875\n",
            "0.6627976 0.47874445\n",
            "0.11289839 0.11230199\n",
            "0.69800407 0.49480784\n",
            "0.8163251 0.784594\n",
            "0.92238915 0.87883645\n",
            "0.597818 0.5588993\n",
            "0.6899803 0.64588755\n",
            "0.106736965 0.10673705\n",
            "BD2 0.106736965 0.10673705\n",
            "0.5713595 0.4396137\n",
            "0.20832776 0.2052686\n",
            "0.6531057 0.6080833\n",
            "0.88216007 0.8575659\n",
            "1.1868304 1.1342275\n",
            "0.8694773 0.8221103\n",
            "0.8904052 0.842295\n",
            "0.23432326 0.23301879\n",
            "0.67847335 0.6563766\n",
            "1.3744711 1.3224063\n",
            "0.91519547 0.87035143\n",
            "0.6004817 0.58474433\n",
            "0.54589516 0.44613022\n",
            "0.12605222 0.12370957\n",
            "0.65633184 0.6183498\n",
            "0.33290386 0.31420016\n",
            "0.7279351 0.701246\n",
            "0.3153602 0.30640012\n",
            "0.7671163 0.7303278\n",
            "1.0602121 1.0089128\n",
            "0.608077 0.59487224\n",
            "0.09142338 0.09142342\n",
            "BD2 0.09142338 0.09142342\n",
            "0.77720606 0.51828957\n",
            "0.67404175 0.65113926\n",
            "0.44661146 0.39397594\n",
            "0.8259909 0.80845284\n",
            "1.6366456 1.5825582\n",
            "0.6227817 0.5929198\n",
            "0.5059712 0.42790937\n",
            "0.25346452 0.25091684\n",
            "0.48137647 0.4118654\n",
            "1.0524013 1.0180745\n",
            "0.89755994 0.84732735\n",
            "0.30927974 0.2981882\n",
            "0.1372699 0.13726984\n",
            "0.76511 0.51588607\n",
            "1.1983105 1.145621\n",
            "0.43730342 0.38140082\n",
            "0.18470158 0.18464448\n",
            "0.99382883 0.95030415\n",
            "0.3343219 0.31538928\n",
            "0.6288767 0.46764144\n",
            "0.3048755 0.28471303\n",
            "0.5309282 0.41946924\n",
            "1.2483754 1.1954166\n",
            "0.7528894 0.7306942\n",
            "0.8073613 0.7589937\n",
            "0.770763 0.7265324\n",
            "0.8205761 0.77499783\n",
            "1.2540411 1.2009552\n",
            "1.2438478 1.191409\n",
            "1.0111964 0.9693352\n",
            "0.89090705 0.84146184\n",
            "0.70687056 0.66222095\n",
            "0.24507795 0.23536956\n",
            "0.72507334 0.50018734\n",
            "0.23736766 0.23577179\n",
            "0.13857216 0.13458735\n",
            "1.3252149 1.2774225\n",
            "1.1329253 1.1115155\n",
            "0.85051906 0.81200665\n",
            "0.62628716 0.6054088\n",
            "0.6613122 0.64276975\n",
            "1.0032227 0.9543135\n",
            "0.7928179 0.75165355\n",
            "0.8805236 0.8357543\n",
            "0.5992327 0.5835296\n",
            "0.2772321 0.27339727\n",
            "0.7259749 0.50605464\n",
            "0.8797459 0.85493374\n",
            "0.7165379 0.524451\n",
            "0.4132861 0.37758526\n",
            "0.7886743 0.74992585\n",
            "0.86771303 0.83243215\n",
            "0.8683468 0.8277848\n",
            "0.64388955 0.62141865\n",
            "0.92116183 0.8958553\n",
            "1.082073 1.0312164\n",
            "0.78019994 0.74741197\n",
            "0.27314147 0.2645433\n",
            "0.6421017 0.5975711\n",
            "0.72513485 0.69942\n",
            "0.69457555 0.6499014\n",
            "0.70551693 0.50270855\n",
            "0.4329515 0.38804132\n",
            "1.1369778 1.0958346\n",
            "0.2053119 0.20530337\n",
            "0.64875495 0.6081166\n",
            "0.8833278 0.8343649\n",
            "1.5647737 1.511493\n",
            "0.59491193 0.57932913\n",
            "1.2443613 1.1923568\n",
            "0.92730683 0.8766397\n",
            "0.8454004 0.8074918\n",
            "0.070862465 0.0691785\n",
            "0.921516 0.8961703\n",
            "0.0073328707 0.004594111\n",
            "0.8217302 0.7766459\n",
            "1.2168201 1.1640329\n",
            "0.7238075 0.68018246\n",
            "0.7052209 0.6633007\n",
            "1.1415682 1.0892403\n",
            "0.19007319 0.19007288\n",
            "0.10136271 0.097674474\n",
            "1.8730794 1.8190019\n",
            "0.38973865 0.36175954\n",
            "0.081126325 0.071373805\n",
            "0.57685727 0.44844198\n",
            "0.36344454 0.32989332\n",
            "0.8042059 0.7565386\n",
            "0.69905317 0.6820524\n",
            "0.82519406 0.80021125\n",
            "0.6603412 0.6411412\n",
            "0.5890506 0.55802864\n",
            "0.4898344 0.41249588\n",
            "0.6484723 0.47328568\n",
            "0.76307327 0.73664916\n",
            "0.8395926 0.79039276\n",
            "0.7075092 0.68478\n",
            "0.7652404 0.7186762\n",
            "0.9836361 0.9346733\n",
            "1.0592784 1.0136179\n",
            "0.7004704 0.6552115\n",
            "0.61306626 0.59597695\n",
            "0.9625895 0.9131205\n",
            "0.22739327 0.22133662\n",
            "1.2389723 1.1863431\n",
            "0.6154747 0.5721333\n",
            "0.69676155 0.6585219\n",
            "0.58088684 0.45412165\n",
            "0.74132806 0.71558475\n",
            "0.8141804 0.7900286\n",
            "0.330889 0.31906712\n",
            "0.186715 0.18614471\n",
            "0.16037333 0.16037312\n",
            "0.9115138 0.8643631\n",
            "1.4094391 1.3558273\n",
            "0.79218394 0.74680626\n",
            "1.1343521 1.0838389\n",
            "0.79553556 0.77491224\n",
            "1.0737807 1.0219411\n",
            "1.1072296 1.0552503\n",
            "0.36948332 0.34665322\n",
            "0.97022945 0.9192841\n",
            "1.0197269 0.9753617\n",
            "1.400491 1.3471341\n",
            "0.6516224 0.60820043\n",
            "0.71250045 0.49729654\n",
            "0.86899316 0.83555484\n",
            "0.77778405 0.7355878\n",
            "0.09288553 0.092885554\n",
            "BD2 0.09288553 0.092885554\n",
            "0.4110519 0.36372846\n",
            "0.57778347 0.45860568\n",
            "0.6819011 0.65926534\n",
            "0.09072877 0.08766612\n",
            "0.46172547 0.39103866\n",
            "0.49354392 0.41960078\n",
            "1.0224203 0.9719054\n",
            "0.83673805 0.7879305\n",
            "0.7421821 0.725985\n",
            "1.3054786 1.2520252\n",
            "1.0694983 1.0205431\n",
            "0.27367887 0.26428422\n",
            "1.1844243 1.1319323\n",
            "1.2184756 1.1659232\n",
            "0.6947156 0.6716534\n",
            "0.07946047 0.06725312\n",
            "0.034776196 0.034776196\n",
            "0.8767299 0.83416796\n",
            "1.2245528 1.1725013\n",
            "1.163575 1.1384938\n",
            "0.9535543 0.9274361\n",
            "0.87411624 0.85126126\n",
            "0.9297671 0.8824799\n",
            "0.096994475 0.09699435\n",
            "0.12347913 0.12347912\n",
            "0.8023865 0.785859\n",
            "0.046153467 0.040368654\n",
            "1.3096697 1.2563884\n",
            "1.5205225 1.4665866\n",
            "0.19544019 0.19543716\n",
            "0.97745126 0.92873454\n",
            "0.8287104 0.7896914\n",
            "0.61072856 0.5674576\n",
            "0.6209234 0.46561843\n",
            "0.7713042 0.5400778\n",
            "0.91341317 0.87200975\n",
            "0.8141686 0.53691596\n",
            "0.51831514 0.433911\n",
            "0.89167494 0.84502625\n",
            "1.0884864 1.0364302\n",
            "0.76953 0.7284224\n",
            "1.0606071 1.0135349\n",
            "0.9527477 0.92208385\n",
            "0.64716774 0.6024941\n",
            "0.7987096 0.7785218\n",
            "0.41160575 0.35971612\n",
            "1.418062 1.3644758\n",
            "0.6138638 0.5839256\n",
            "0.8310057 0.78182536\n",
            "0.114948474 0.10758092\n",
            "0.7358062 0.7120383\n",
            "0.54388297 0.44526076\n",
            "0.7638937 0.5191733\n",
            "0.60253507 0.47566605\n",
            "1.3815062 1.3280145\n",
            "0.079994336 0.07999432\n",
            "0.28983837 0.28448707\n",
            "1.4170692 1.363434\n",
            "0.5202481 0.43754667\n",
            "0.6260385 0.47242287\n",
            "1.0835813 1.0314455\n",
            "1.4815277 1.4287138\n",
            "0.946779 0.9212308\n",
            "1.0524849 1.0011425\n",
            "0.61230797 0.58716995\n",
            "0.2345442 0.23284271\n",
            "0.611349 0.48120543\n",
            "1.0716472 1.0514343\n",
            "0.7246802 0.6946833\n",
            "0.29762062 0.28869832\n",
            "1.1786885 1.1353376\n",
            "0.782278 0.73444307\n",
            "0.06974904 0.05356863\n",
            "0.6393362 0.59492624\n",
            "1.1380929 1.0858399\n",
            "0.5769091 0.54432344\n",
            "1.2451594 1.1920996\n",
            "0.10153946 0.10153939\n",
            "0.40835953 0.37120572\n",
            "0.603144 0.58219784\n",
            "1.3510735 1.2976413\n",
            "0.3025819 0.2939835\n",
            "0.24106339 0.2389569\n",
            "0.85107243 0.80240417\n",
            "0.34446466 0.32770342\n",
            "0.77266884 0.72614497\n",
            "0.9689859 0.93300724\n",
            "0.95400786 0.9129182\n",
            "0.15009144 0.1500774\n",
            "0.7868309 0.5249783\n",
            "0.13836887 0.13836892\n",
            "BD2 0.13836887 0.13836892\n",
            "0.07642497 0.076424904\n",
            "0.7255348 0.5260198\n",
            "0.7330372 0.70989966\n",
            "0.3464061 0.31779802\n",
            "0.74242413 0.5297506\n",
            "0.82664704 0.80850136\n",
            "0.6335866 0.61329204\n",
            "1.5362403 1.4823568\n",
            "1.0534967 1.0036404\n",
            "1.4532369 1.4009491\n",
            "0.15031354 0.15031123\n",
            "1.2301437 1.177453\n",
            "0.33659336 0.30893597\n",
            "0.27013955 0.26714173\n",
            "0.08784243 0.08784252\n",
            "BD2 0.08784243 0.08784252\n",
            "0.68477064 0.48661864\n",
            "0.17226326 0.16826966\n",
            "0.0028823027 -0.012500534\n",
            "1.5574744 1.5034851\n",
            "0.8221943 0.7737702\n",
            "0.7241156 0.686137\n",
            "0.037960157 0.030048784\n",
            "0.6699481 0.62577885\n",
            "0.81364214 0.77040124\n",
            "0.68682337 0.65792656\n",
            "0.19174072 0.19173962\n",
            "1.2947527 1.24171\n",
            "0.9514315 0.90137196\n",
            "0.81352323 0.793689\n",
            "0.06441573 0.06441572\n",
            "0.27177697 0.26765\n",
            "0.9521528 0.9261467\n",
            "0.3563013 0.3332457\n",
            "0.3760141 0.3483051\n",
            "0.053321075 0.040257398\n",
            "0.69044554 0.6445696\n",
            "0.85829735 0.81055987\n",
            "1.2599087 1.2069007\n",
            "0.74116194 0.50737244\n",
            "0.74770486 0.52763194\n",
            "0.52014333 0.43743104\n",
            "0.8646806 0.81661093\n",
            "0.41968697 0.3674176\n",
            "0.0035272106 -0.001901757\n",
            "0.1415402 0.14154024\n",
            "BD2 0.1415402 0.14154024\n",
            "0.93371814 0.88312495\n",
            "0.80760115 0.7599971\n",
            "0.41750833 0.36148888\n",
            "0.6583971 0.64251965\n",
            "0.8424608 0.8040704\n",
            "0.69491625 0.5115961\n",
            "1.4325893 1.378886\n",
            "1.3995007 1.3458878\n",
            "0.95727503 0.9091657\n",
            "0.22702567 0.2249498\n",
            "0.061819553 0.059090063\n",
            "0.10255073 0.10255069\n",
            "0.98902833 0.93782955\n",
            "0.66709805 0.62170124\n",
            "0.58476824 0.46898854\n",
            "0.65799993 0.4918298\n",
            "0.74347377 0.70660424\n",
            "0.51950854 0.43432644\n",
            "0.59190005 0.55103695\n",
            "0.6513385 0.62768805\n",
            "0.9611789 0.91189754\n",
            "0.025019608 0.019018037\n",
            "0.49458295 0.41465607\n",
            "0.39471132 0.36230582\n",
            "1.1811614 1.1292883\n",
            "0.61844987 0.5766601\n",
            "1.0574796 1.0090497\n",
            "0.17232454 0.1717161\n",
            "0.6373903 0.5955076\n",
            "1.3469069 1.2934116\n",
            "0.03988441 0.037188172\n",
            "0.6020886 0.4721697\n",
            "0.9540159 0.9276786\n",
            "0.7768694 0.739823\n",
            "0.20493425 0.20092295\n",
            "0.103188165 0.103187814\n",
            "1.5272706 1.4733709\n",
            "0.2890873 0.28236592\n",
            "0.70916665 0.66562927\n",
            "0.8802568 0.8313962\n",
            "0.76938856 0.7231684\n",
            "0.9686124 0.9180526\n",
            "0.7776425 0.54305017\n",
            "0.1699548 0.16591313\n",
            "0.35315984 0.33162636\n",
            "0.6776787 0.6406676\n",
            "0.68371606 0.48886806\n",
            "0.5120208 0.42703354\n",
            "0.6382602 0.62227833\n",
            "0.97370446 0.93065095\n",
            "0.5920203 0.56673634\n",
            "0.33336428 0.30846703\n",
            "0.7402686 0.5124501\n",
            "0.98919106 0.939076\n",
            "0.21041434 0.20741208\n",
            "1.0142416 0.96305144\n",
            "0.89135 0.841326\n",
            "0.8717037 0.8331103\n",
            "0.57282364 0.45603764\n",
            "1.3597046 1.3061768\n",
            "0.94580114 0.90001535\n",
            "0.2969068 0.2882784\n",
            "0.8518348 0.8033322\n",
            "0.770011 0.7325033\n",
            "0.533117 0.44119024\n",
            "0.7237304 0.49927503\n",
            "0.6107739 0.58430654\n",
            "0.16366036 0.1629301\n",
            "0.8275574 0.78051555\n",
            "0.8083945 0.7886685\n",
            "0.07314108 0.06969413\n",
            "0.60063773 0.56048447\n",
            "0.20478332 0.20477043\n",
            "0.66430867 0.6427541\n",
            "0.9059994 0.8560451\n",
            "0.5837895 0.56526434\n",
            "0.074760824 0.07476072\n",
            "0.8694974 0.82141197\n",
            "0.7899256 0.74379766\n",
            "0.73321795 0.7054535\n",
            "0.103896424 0.10389653\n",
            "BD2 0.103896424 0.10389653\n",
            "1.1244773 1.0754323\n",
            "0.913239 0.8635452\n",
            "0.059895247 0.059895284\n",
            "BD2 0.059895247 0.059895284\n",
            "0.7940739 0.77580696\n",
            "0.22848448 0.22643822\n",
            "0.60173815 0.45616972\n",
            "1.0091288 0.9835077\n",
            "1.0125836 0.9652331\n",
            "1.1844676 1.1324707\n",
            "0.72709537 0.704316\n",
            "0.597766 0.57303536\n",
            "0.97917074 0.95313287\n",
            "0.95628077 0.90624464\n",
            "0.8057313 0.5449327\n",
            "1.0408837 0.98986906\n",
            "0.69386226 0.6636189\n",
            "0.8032918 0.7560394\n",
            "0.8796047 0.8349998\n",
            "0.13746253 0.13744313\n",
            "0.47026786 0.40910533\n",
            "0.96878016 0.922729\n",
            "1.0109389 0.9848672\n",
            "0.97723997 0.94718707\n",
            "1.3259784 1.2808576\n",
            "0.5358056 0.43982375\n",
            "1.0450035 0.9958416\n",
            "0.68097883 0.66105074\n",
            "0.84411293 0.8096093\n",
            "0.20920455 0.20902675\n",
            "0.6260688 0.6004312\n",
            "0.8910997 0.84570026\n",
            "0.5337651 0.42354724\n",
            "0.97623605 0.93012476\n",
            "0.8120501 0.55127805\n",
            "0.845485 0.80678606\n",
            "0.8681588 0.8186741\n",
            "1.3390567 1.2856007\n",
            "0.4245025 0.37890735\n",
            "1.0996909 1.0522645\n",
            "0.97445923 0.9262259\n",
            "1.6361628 1.5824441\n",
            "0.04565411 0.045654092\n",
            "1.4481168 1.3967309\n",
            "0.27075607 0.26648012\n",
            "1.2262211 1.1750834\n",
            "1.0981945 1.0462298\n"
          ]
        }
      ]
    },
    {
      "cell_type": "markdown",
      "source": [
        "# Now do the divergence"
      ],
      "metadata": {
        "id": "E6udqNqZGEak"
      }
    },
    {
      "cell_type": "code",
      "source": [
        "def gen_in_cball(key):\n",
        "  \"\"\" generate two points in the ball $x^Tgrad_{\\tphi}(x) < \\frac{1}{r}\n",
        "  \"\"\"\n",
        "  x, key = grand(key, (n+1,))\n",
        "  t = x[-1]/jnp.sqrt(1+x[-1]*x[-1])\n",
        "  return jnp.sum(x[:-1]*gradtPhi(x[:-1]))**(-1/pw)*t*x[:n], key\n",
        "\n",
        "xx, key = gen_in_cball(key)\n",
        "xp, key = gen_in_cball(key)\n",
        "jnp.sum(xp*gradtPhi(xp)), 1/r"
      ],
      "metadata": {
        "id": "JLpV5djXKd5c",
        "colab": {
          "base_uri": "https://localhost:8080/"
        },
        "outputId": "b9fef3eb-b573-4218-ca99-90811bc6a8b4"
      },
      "execution_count": 28,
      "outputs": [
        {
          "output_type": "execute_result",
          "data": {
            "text/plain": [
              "(Array(0.1449045, dtype=float32), Array(0.8186759, dtype=float32))"
            ]
          },
          "metadata": {},
          "execution_count": 28
        }
      ]
    },
    {
      "cell_type": "markdown",
      "source": [
        "SHow 3 expressions for divergence are the same"
      ],
      "metadata": {
        "id": "x_J5muj-fhdL"
      }
    },
    {
      "cell_type": "code",
      "source": [
        "def Div(x, xp):\n",
        "  yp = yopt_in_x(xp)\n",
        "  return uf0(jnp.sum(x*yp)) + tPhi(x) + psi(yp)\n",
        "\n",
        "def Div2(x, xp):\n",
        "  yp = yopt_in_x(xp)\n",
        "  return uf0(jnp.sum(x*yp)) - uf0(jnp.sum(xp*yp)) + tPhi(x) - tPhi(xp)\n",
        "\n",
        "def Div3(x, xp):\n",
        "  # yp = yopt_in_x(xp)\n",
        "  yp = 2*r*jnp.sqrt(-p0*p2)/(1-r**2*pw**2*tPhi(xp)**2)**0.5*gradtPhi(xp)\n",
        "  xyp = jnp.sum(x*yp)\n",
        "  xyp = 2*r*jnp.sqrt(-p0*p2)/(1-r**2*pw**2*tPhi(xp)**2)**0.5*jnp.sum(x*gradtPhi(xp))\n",
        "  xpyp = jnp.sum(xp*yp)\n",
        "  xpyp = 2*r*jnp.sqrt(-p0*p2)/(1-r**2*pw**2*tPhi(xp)**2)**0.5*jnp.sum(xp*gradtPhi(xp))\n",
        "\n",
        "  Xp = xpyp**2-4*p0*p2\n",
        "  Xp = -4*r**2*p0*p2*jnp.sum(xp*gradtPhi(xp))**2/(1-r**2*pw**2*tPhi(xp)**2)-4*p0*p2\n",
        "  # Xp = -4*p0*p2*(r**2*pw**2*jnp.sum(tPhi(xp))**2 +1-r**2*pw**2*tPhi(xp)**2)/(1-r**2*pw**2*tPhi(xp)**2)\n",
        "  Xp = -4*p0*p2/(1-r**2*pw**2*tPhi(xp)**2)\n",
        "  XYp = xpyp+ jnp.sqrt(Xp)\n",
        "  XYp = 2*(-p0*p2)**.5*(r*jnp.sum(xp*gradtPhi(xp))+ 1 )/(1-r**2*pw**2*tPhi(xp)**2)**.5\n",
        "  XxYp = xyp+ jnp.sqrt(xyp**2-4*p0*p2)\n",
        "  XxYp = 2*r*jnp.sqrt(-p0*p2)/(1-r**2*pw**2*tPhi(xp)**2)**0.5*jnp.sum(x*gradtPhi(xp))\n",
        "  XxYp = 2*r*jnp.sqrt(-p0*p2)/(1-r**2*pw**2*tPhi(xp)**2)**0.5*jnp.sum(x*gradtPhi(xp)) \\\n",
        "     + ((2*r*jnp.sum(x*gradtPhi(xp))*jnp.sqrt(-p0*p2)/(1-r**2*pw**2*tPhi(xp)**2)**0.5)**2-4*p0*p2)**.5\n",
        "  XxYp = 2*r*jnp.sqrt(-p0*p2)/(1-r**2*pw**2*tPhi(xp)**2)**0.5*jnp.sum(x*gradtPhi(xp)) \\\n",
        "     + 2*(-p0*p2)**.5*(r**2*(jnp.sum((x)*gradtPhi(xp))**2\n",
        "                             - jnp.sum((xp)*gradtPhi(xp))**2)+1)**.5/(1-r**2*pw**2*tPhi(xp)**2)**.5\n",
        "  XxYp = 2*(-p0*p2)**.5/(1-r**2*pw**2*tPhi(xp)**2)**0.5*(\n",
        "      r*jnp.sum(x*gradtPhi(xp)) + (r**2*(jnp.sum((x)*gradtPhi(xp))**2\n",
        "                             - jnp.sum((xp)*gradtPhi(xp))**2)+1)**.5)\n",
        "\n",
        "\n",
        "  # return  tPhi(x) - tPhi(xp) + uf0(jnp.sum(xyp)) - uf0(jnp.sum(xpyp))\n",
        "  # return tPhi(x) - tPhi(xp) - 1/r*jnp.log(XxYp/XYp)\n",
        "  return tPhi(x) - tPhi(xp) - 1/r*jnp.log(\n",
        "      (\n",
        "      r*jnp.sum(x*gradtPhi(xp)) + (r**2*(jnp.sum(x*gradtPhi(xp))**2\n",
        "                             - jnp.sum(xp*gradtPhi(xp))**2)+1)**.5) /\n",
        "      (r*jnp.sum(xp*gradtPhi(xp))+ 1 ))\n",
        "\n",
        "\n",
        "print(Div(xx, xp))\n",
        "print(Div2(xx, xp))\n",
        "print(Div3(xx, xp))\n",
        "\n"
      ],
      "metadata": {
        "colab": {
          "base_uri": "https://localhost:8080/"
        },
        "id": "pSck-lLBGJZ8",
        "outputId": "70f298f9-80a5-4254-fac7-61390d539183"
      },
      "execution_count": 29,
      "outputs": [
        {
          "output_type": "stream",
          "name": "stdout",
          "text": [
            "0.09900358\n",
            "0.09900357\n",
            "0.09900355\n"
          ]
        }
      ]
    },
    {
      "cell_type": "code",
      "source": [
        "# @title\n",
        "def Div_dev(x, xp):\n",
        "  yp = yopt_in_x(xp)\n",
        "  ret = uf0(jnp.sum(x*yp)) + tPhi(x) + psi(yp)\n",
        "  print(ret)\n",
        "  print(xp - xopt_in_y(yp))\n",
        "\n",
        "Div_dev(xx, xp)\n",
        "print(xopt_in_y(yopt_in_x(xopt_in_y(xp))))\n",
        "print(xopt_in_y(xp))"
      ],
      "metadata": {
        "id": "aq0_8Uu3O-l2",
        "cellView": "form"
      },
      "execution_count": null,
      "outputs": []
    }
  ]
}