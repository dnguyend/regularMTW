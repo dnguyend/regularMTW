{
  "nbformat": 4,
  "nbformat_minor": 0,
  "metadata": {
    "colab": {
      "provenance": [],
      "authorship_tag": "ABX9TyM0wQYjlStT+NThyj3yjYC3",
      "include_colab_link": true
    },
    "kernelspec": {
      "name": "python3",
      "display_name": "Python 3"
    },
    "language_info": {
      "name": "python"
    }
  },
  "cells": [
    {
      "cell_type": "markdown",
      "metadata": {
        "id": "view-in-github",
        "colab_type": "text"
      },
      "source": [
        "<a href=\"https://colab.research.google.com/github/dnguyend/regularMTW/blob/main/colab/MTW_tensor_for_SphereAndHyperboloid.ipynb\" target=\"_parent\"><img src=\"https://colab.research.google.com/assets/colab-badge.svg\" alt=\"Open In Colab\"/></a>"
      ]
    },
    {
      "cell_type": "markdown",
      "source": [
        "# Main Theorems in section 4 on nonnegative MTW tensor on sphere and hyperboloid\n",
        "A mix of symbolic and numerical differentiation.\n",
        "\n",
        "## First, the expressions for the three coefficients $R_1, R_{23}, R_4$."
      ],
      "metadata": {
        "id": "qkSa1HJCEnPW"
      }
    },
    {
      "cell_type": "code",
      "execution_count": 1,
      "metadata": {
        "colab": {
          "base_uri": "https://localhost:8080/",
          "height": 169
        },
        "id": "iPkpK9wAEfmg",
        "outputId": "9366ff68-34b2-462f-a802-921612ccfa09"
      },
      "outputs": [
        {
          "output_type": "display_data",
          "data": {
            "text/plain": [
              "s1**5*(-s0*s2 + s1**2)*(s0**2*s2 - s0*s1**2 - s2)"
            ],
            "text/latex": "$\\displaystyle s_{1}^{5} \\left(- s_{0} s_{2} + s_{1}^{2}\\right) \\left(s_{0}^{2} s_{2} - s_{0} s_{1}^{2} - s_{2}\\right)$"
          },
          "metadata": {}
        },
        {
          "output_type": "display_data",
          "data": {
            "text/plain": [
              "((1 - s0**2)**2*(s0**2*s2 - s0*s1**2 - s2)*(s0*s3**2 - 2*s1*s2*s3 + s2**3 + s4*(-s0*s2 + s1**2)) + (s1**2*(-s0*s2 + s1**2) + (1 - s0**2)*(s1*s3 - s2**2))**2)/(s1**5*(-s0*s2 + s1**2)*(s0**2*s2 - s0*s1**2 - s2))"
            ],
            "text/latex": "$\\displaystyle \\frac{\\left(1 - s_{0}^{2}\\right)^{2} \\left(s_{0}^{2} s_{2} - s_{0} s_{1}^{2} - s_{2}\\right) \\left(s_{0} s_{3}^{2} - 2 s_{1} s_{2} s_{3} + s_{2}^{3} + s_{4} \\left(- s_{0} s_{2} + s_{1}^{2}\\right)\\right) + \\left(s_{1}^{2} \\left(- s_{0} s_{2} + s_{1}^{2}\\right) + \\left(1 - s_{0}^{2}\\right) \\left(s_{1} s_{3} - s_{2}^{2}\\right)\\right)^{2}}{s_{1}^{5} \\left(- s_{0} s_{2} + s_{1}^{2}\\right) \\left(s_{0}^{2} s_{2} - s_{0} s_{1}^{2} - s_{2}\\right)}$"
          },
          "metadata": {}
        },
        {
          "output_type": "display_data",
          "data": {
            "text/plain": [
              "(s1**2*(-s0*s2 + s1**2) + (1 - s0**2)*(s1*s3 - s2**2))/(s1**3*(s0**2*s2 - s0*s1**2 - s2))"
            ],
            "text/latex": "$\\displaystyle \\frac{s_{1}^{2} \\left(- s_{0} s_{2} + s_{1}^{2}\\right) + \\left(1 - s_{0}^{2}\\right) \\left(s_{1} s_{3} - s_{2}^{2}\\right)}{s_{1}^{3} \\left(s_{0}^{2} s_{2} - s_{0} s_{1}^{2} - s_{2}\\right)}$"
          },
          "metadata": {}
        },
        {
          "output_type": "display_data",
          "data": {
            "text/plain": [
              "(-s0*s2 + s1**2)/(s1*(s0**2*s2 - s0*s1**2 - s2))"
            ],
            "text/latex": "$\\displaystyle \\frac{- s_{0} s_{2} + s_{1}^{2}}{s_{1} \\left(s_{0}^{2} s_{2} - s_{0} s_{1}^{2} - s_{2}\\right)}$"
          },
          "metadata": {}
        }
      ],
      "source": [
        "import sympy as sp\n",
        "s0, s1, s2, s3, s4 = sp.symbols('s0 s1 s2 s3 s4')\n",
        "p0, p1, p2, p3 = sp.symbols('p0 p1 p2 p3')\n",
        "\n",
        "u, w = sp.symbols('u w')\n",
        "\n",
        "\n",
        "D = (- s2-s0*s1**2+s2*s0**2)*(s1**2-s2*s0)*s1**5\n",
        "\n",
        "R1 = (s0**6*s2*s4 - s0**6*s3**2 - s0**5*s1**2*s4 + 2*s0**5*s1*s2*s3 - s0**5*s2**3 - 3*s0**4*s2*s4 + 3*s0**4*s3**2 + 2*s0**3*s1**2*s4 - 4*s0**3*s1*s2*s3 + 2*s0**3*s2**3\n",
        "      - 2*s0**2*s1**3*s3 + 2*s0**2*s1**2*s2**2 + 3*s0**2*s2*s4 - 3*s0**2*s3**2 - s0*s1**4*s2 - s0*s1**2*s4 + 2*s0*s1*s2*s3 - s0*s2**3 + s1**6 + 2*s1**3*s3 - 2*s1**2*s2**2 - s2*s4 + s3**2\n",
        "    ) / (- s2-s0*s1**2+s2*s0**2)/s1**5/(1-s0**2)**2\n",
        "R1 =  (((s1**2 - s0*s2)*s4 + s0*s3**2 - 2*s1*s2*s3 + s2**3)*(- s2-s0*s1**2+s2*s0**2)*(1-s0**2)**2 \\\n",
        "           + ((s3*s1-s2**2)*(1-s0**2) + s1**2*(s1**2-s2*s0))**2)/D\n",
        "\n",
        "R23 = ((s3*s1-s2**2)*(1-s0**2) + s1**2*(s1**2-s2*s0))* s1**2*(s1**2-s2*s0)/D\n",
        "R4 = s1**2*(s1**2-s2*s0)* s1**2*(s1**2-s2*s0)/D\n",
        "\n",
        "display(D)\n",
        "display(R1)\n",
        "display(R23)\n",
        "display(R4)\n",
        "\n",
        "# display(sp.simplify((- h2-h0*h1**2+h2*h0**2)))\n",
        "# display(sp.simplify(h1**2-h2*h0))\n",
        "# print(sp.factor(R1))\n",
        "# print(sp.factor(R4))\n",
        "# print(sp.factor(R23))\n",
        "\n"
      ]
    },
    {
      "cell_type": "markdown",
      "source": [
        "Use $h_0$ to be the function to substitute, and $h_1, h_2,h_3\\cdots$ the derivatives.\n",
        "\n",
        "First the power cost $h_0(u) = (-u)^a-1$ on the sphere. We verify the long expressions in the proof. The actual proof is in the paper, here, we only confirm it symbolically."
      ],
      "metadata": {
        "id": "YI9XAkIhU5Xl"
      }
    },
    {
      "cell_type": "code",
      "source": [
        "a = sp.symbols('a')\n",
        "h0 = (-u)**a-1\n",
        "h1 = sp.diff(h0, u)\n",
        "h2 = sp.diff(h1, u)\n",
        "h3 = sp.diff(h2, u)\n",
        "h4 = sp.diff(h3, u)"
      ],
      "metadata": {
        "id": "kqKMffBkU1_N"
      },
      "execution_count": 2,
      "outputs": []
    },
    {
      "cell_type": "markdown",
      "source": [
        "# substitute the expressions  used in the proof of the theorem."
      ],
      "metadata": {
        "id": "g894SHC_ahGN"
      }
    },
    {
      "cell_type": "code",
      "source": [
        "display(sp.simplify((s1**2-s2*s0 - a*u**(-2)*(s0+1)*(s0+a)).subs([(s0, h0), (s1, h1), (s2, h2), (s3, h3), (s4, h4)])))\n",
        "ff1 = s1*s3-s2**2\n",
        "ff1a = - a**2*(a-1)*(s0+1)**2*u**(-4)\n",
        "display(sp.simplify((ff1 - ff1a).subs([(s0, h0), (s1, h1), (s2, h2), (s3, h3), (s4, h4)])))\n",
        "\n",
        "ff2 = (s1**2-s0*s2)*s4 + s0*s3**2 - 2*s1*s2*s3 + s2**3\n",
        "ff2a = a**2*(a-1)*u**(-6)*(s0+1)**2*(2*s0-a**2+3*a)\n",
        "\n",
        "display(sp.simplify((ff2 - ff2a).subs([(s0, h0), (s1, h1), (s2, h2), (s3, h3), (s4, h4)])))\n",
        "\n",
        "Da = - a**7*(s0+1)**8*u**(-9)*(s0+a)*(s0+a-1)\n",
        "display(sp.simplify((D - Da).subs([(s0, h0), (s1, h1), (s2, h2), (s3, h3), (s4, h4)])))"
      ],
      "metadata": {
        "colab": {
          "base_uri": "https://localhost:8080/",
          "height": 98
        },
        "id": "ZKW-Fj05gRgt",
        "outputId": "786a3fa9-004a-4da1-dbb1-619ed3661594"
      },
      "execution_count": 3,
      "outputs": [
        {
          "output_type": "display_data",
          "data": {
            "text/plain": [
              "0"
            ],
            "text/latex": "$\\displaystyle 0$"
          },
          "metadata": {}
        },
        {
          "output_type": "display_data",
          "data": {
            "text/plain": [
              "0"
            ],
            "text/latex": "$\\displaystyle 0$"
          },
          "metadata": {}
        },
        {
          "output_type": "display_data",
          "data": {
            "text/plain": [
              "0"
            ],
            "text/latex": "$\\displaystyle 0$"
          },
          "metadata": {}
        },
        {
          "output_type": "display_data",
          "data": {
            "text/plain": [
              "0"
            ],
            "text/latex": "$\\displaystyle 0$"
          },
          "metadata": {}
        }
      ]
    },
    {
      "cell_type": "markdown",
      "source": [
        "## Checking R1\n",
        "\n",
        "Sympy cannot simplify $R_1$. We just substitute to show the expression is valid."
      ],
      "metadata": {
        "id": "rXSs-sAzhiX9"
      }
    },
    {
      "cell_type": "code",
      "source": [
        "\n",
        "expr1 = R1.subs([(s0, h0), (s1, h1), (s2, h2), (s3, h3), (s4, h4)])\n",
        "f0 = 2*(1-a)*s0**3 +(a**3-4*a**2+9*a-6)*s0**2 + (a**3+6*a**2-12*a+6)*s0 + (a**4-a**3-2*a**2+5*a-2)\n",
        "display(sp.Poly(f0, s0))\n",
        "expr1a = ((-u)*f0/(a**4*(s0+1)**2*(s0+a-1))).subs([(s0, h0), (s1, h1), (s2, h2), (s3, h3), (s4, h4)])\n",
        "for av in range(2, 5):\n",
        "  for ut in range(1, 11):\n",
        "    uv = -2**(1/av)/10*ut\n",
        "    print(sp.simplify(sp.expand(expr1 - expr1a)).subs([(a, av), (u, uv)]))\n"
      ],
      "metadata": {
        "colab": {
          "base_uri": "https://localhost:8080/",
          "height": 559
        },
        "id": "P6SYcnRTINyt",
        "outputId": "d950f49e-87dc-4244-a3b6-5593108cb5bd"
      },
      "execution_count": 4,
      "outputs": [
        {
          "output_type": "display_data",
          "data": {
            "text/plain": [
              "Poly((2 - 2*a)*s0**3 + (a**3 - 4*a**2 + 9*a - 6)*s0**2 + (a**3 + 6*a**2 - 12*a + 6)*s0 + a**4 - a**3 - 2*a**2 + 5*a - 2, s0, domain='ZZ[a]')"
            ],
            "text/latex": "$\\displaystyle \\operatorname{Poly}{\\left( \\left(2 - 2 a\\right) s_{0}^{3} + \\left(a^{3} - 4 a^{2} + 9 a - 6\\right) s_{0}^{2} + \\left(a^{3} + 6 a^{2} - 12 a + 6\\right) s_{0} + a^{4} - a^{3} - 2 a^{2} + 5 a - 2, s_{0}, domain=\\mathbb{Z}\\left[a\\right] \\right)}$"
          },
          "metadata": {}
        },
        {
          "output_type": "stream",
          "name": "stdout",
          "text": [
            "1.18010413259022e-15\n",
            "2.78635697972690e-16\n",
            "-6.28265579483215e-16\n",
            "2.27974661977656e-16\n",
            "0\n",
            "-1.07754852295086e-16\n",
            "0\n",
            "1.97977995927964e-16\n",
            "-8.71362284698461e-17\n",
            "0\n",
            "0\n",
            "0\n",
            "0\n",
            "-8.57562313438692e-16\n",
            "0\n",
            "-2.26571682586959e-16\n",
            "-5.85640521946886e-17\n",
            "0\n",
            "2.63188080501189e-17\n",
            "0\n",
            "0\n",
            "7.44179567553618e-13\n",
            "0\n",
            "0\n",
            "-1.00705295698041e-15\n",
            "6.39793643342800e-16\n",
            "-1.14639792781909e-16\n",
            "0\n",
            "-3.41733796317944e-17\n",
            "-2.22044604925032e-17\n"
          ]
        }
      ]
    },
    {
      "cell_type": "markdown",
      "source": [
        "# Sympy can simplify $R_{23}$ and $R_4$"
      ],
      "metadata": {
        "id": "gXCSYeQb-JD5"
      }
    },
    {
      "cell_type": "code",
      "source": [
        "expr23 = R23.subs([(s0, h0), (s1, h1), (s2, h2), (s3, h3), (s4, h4)])\n",
        "expr23a = ((-u)*((2*a-1)*s0+a**2-a+1)/(a**2*(s0+1)**2*(s0+a-1))).subs([(s0, h0), (s1, h1), (s2, h2), (s3, h3), (s4, h4)])\n",
        "sp.simplify(expr23 - expr23a)"
      ],
      "metadata": {
        "colab": {
          "base_uri": "https://localhost:8080/",
          "height": 37
        },
        "id": "o4J9vrlga_g1",
        "outputId": "0a7d92a5-e6f7-4a4c-d726-282e054037a3"
      },
      "execution_count": 5,
      "outputs": [
        {
          "output_type": "execute_result",
          "data": {
            "text/plain": [
              "0"
            ],
            "text/latex": "$\\displaystyle 0$"
          },
          "metadata": {},
          "execution_count": 5
        }
      ]
    },
    {
      "cell_type": "code",
      "source": [
        "expr4 = R4.subs([(s0, h0), (s1, h1), (s2, h2), (s3, h3), (s4, h4)])\n",
        "expr4a = ((-u)*(s0+a)/(a*(s0+1)**2*(s0+a-1))).subs([(s0, h0), (s1, h1), (s2, h2), (s3, h3), (s4, h4)])\n",
        "sp.simplify(expr4 - expr4a)"
      ],
      "metadata": {
        "colab": {
          "base_uri": "https://localhost:8080/",
          "height": 37
        },
        "id": "Q3mLFkiIep2c",
        "outputId": "205c3f53-43e5-47f0-c116-02ce19a29b06"
      },
      "execution_count": 6,
      "outputs": [
        {
          "output_type": "execute_result",
          "data": {
            "text/plain": [
              "0"
            ],
            "text/latex": "$\\displaystyle 0$"
          },
          "metadata": {},
          "execution_count": 6
        }
      ]
    },
    {
      "cell_type": "markdown",
      "source": [
        "Proving $f_0$ is positive by substituting $a=b+2$"
      ],
      "metadata": {
        "id": "IlQWPQRHmhZU"
      }
    },
    {
      "cell_type": "code",
      "source": [
        "b = sp.symbols('b')\n",
        "display(sp.poly(f0.subs(a, b+2), b))\n",
        "display(sp.factor(sp.poly(f0.subs(a, b+2), b).all_coeffs()[-2]))\n",
        "display(sp.factor(sp.poly(f0.subs(a, b+2), b).all_coeffs()[-1]))"
      ],
      "metadata": {
        "colab": {
          "base_uri": "https://localhost:8080/",
          "height": 82
        },
        "id": "jc8x2uzymmtl",
        "outputId": "416d0092-57f3-46fb-9c33-bc624b3df694"
      },
      "execution_count": 7,
      "outputs": [
        {
          "output_type": "display_data",
          "data": {
            "text/plain": [
              "Poly(b**4 + (s0**2 + s0 + 7)*b**3 + (2*s0**2 + 12*s0 + 16)*b**2 + (-2*s0**3 + 5*s0**2 + 24*s0 + 17)*b - 2*s0**3 + 4*s0**2 + 14*s0 + 8, b, domain='ZZ[s0]')"
            ],
            "text/latex": "$\\displaystyle \\operatorname{Poly}{\\left( b^{4} + \\left(s_{0}^{2} + s_{0} + 7\\right) b^{3} + \\left(2 s_{0}^{2} + 12 s_{0} + 16\\right) b^{2} + \\left(- 2 s_{0}^{3} + 5 s_{0}^{2} + 24 s_{0} + 17\\right) b -  2 s_{0}^{3} + 4 s_{0}^{2} + 14 s_{0} + 8, b, domain=\\mathbb{Z}\\left[s_{0}\\right] \\right)}$"
          },
          "metadata": {}
        },
        {
          "output_type": "display_data",
          "data": {
            "text/plain": [
              "-(s0 + 1)*(2*s0**2 - 7*s0 - 17)"
            ],
            "text/latex": "$\\displaystyle - \\left(s_{0} + 1\\right) \\left(2 s_{0}^{2} - 7 s_{0} - 17\\right)$"
          },
          "metadata": {}
        },
        {
          "output_type": "display_data",
          "data": {
            "text/plain": [
              "-2*(s0 - 4)*(s0 + 1)**2"
            ],
            "text/latex": "$\\displaystyle - 2 \\left(s_{0} - 4\\right) \\left(s_{0} + 1\\right)^{2}$"
          },
          "metadata": {}
        }
      ]
    },
    {
      "cell_type": "markdown",
      "source": [
        "# For Hyperboloid: $s_0 = -(-u)^a$.check the expressions in the proof:"
      ],
      "metadata": {
        "id": "bB0WlB6Gipdk"
      }
    },
    {
      "cell_type": "code",
      "source": [
        "h0 = -(-u)**a\n",
        "h1 = sp.diff(h0, u)\n",
        "h2 = sp.diff(h1, u)\n",
        "h3 = sp.diff(h2, u)\n",
        "h4 = sp.diff(h3, u)\n",
        "\n",
        "ex1a = a*s0**2*u**(-2)\n",
        "display(sp.simplify((s1**2-s0*s2 - ex1a).subs([(s0, h0), (s1, h1), (s2, h2), (s3, h3), (s4, h4)])))\n",
        "\n",
        "ex2 = (s1**2-s0*s2)*s4+s0*s3**2 - 2*s1*s2*s3 + s2**3\n",
        "ex2a = -2*a**2*(1-a)*s0**3*u**(-6)\n",
        "display(sp.simplify((ex2 - ex2a).subs([(s0, h0), (s1, h1), (s2, h2), (s3, h3), (s4, h4)])))\n",
        "\n",
        "ex3 = (s3*s1-s2**2)*(1-s0**2)+s1**2*(s1**2-s0*s2)\n",
        "ex3a = a**2*u**(-4)*s0**2*((2*a-1)*s0**2+1-a)\n",
        "display(sp.simplify((ex3 - ex3a).subs([(s0, h0), (s1, h1), (s2, h2), (s3, h3), (s4, h4)])))"
      ],
      "metadata": {
        "colab": {
          "base_uri": "https://localhost:8080/",
          "height": 78
        },
        "id": "NyhUUOndlztl",
        "outputId": "f5a678d1-d362-4bce-8444-f6e85b416ec9"
      },
      "execution_count": 8,
      "outputs": [
        {
          "output_type": "display_data",
          "data": {
            "text/plain": [
              "0"
            ],
            "text/latex": "$\\displaystyle 0$"
          },
          "metadata": {}
        },
        {
          "output_type": "display_data",
          "data": {
            "text/plain": [
              "0"
            ],
            "text/latex": "$\\displaystyle 0$"
          },
          "metadata": {}
        },
        {
          "output_type": "display_data",
          "data": {
            "text/plain": [
              "0"
            ],
            "text/latex": "$\\displaystyle 0$"
          },
          "metadata": {}
        }
      ]
    },
    {
      "cell_type": "markdown",
      "source": [
        "Square Riemmanian distance cost"
      ],
      "metadata": {
        "id": "xX9e6NTlq6PE"
      }
    },
    {
      "cell_type": "code",
      "source": [
        "u, w = sp.symbols('u w')\n",
        "\n",
        "\n",
        "h0 = sp.cos(w)\n",
        "# 1/2*w^2 = u\n",
        "dudw = w\n",
        "\n",
        "\n",
        "# h1 = sp.factor(sp.diff(h0, w)/dudw)\n",
        "# h2 = sp.factor(sp.diff(h1, w)/dudw)\n",
        "# h3 = sp.factor(sp.diff(h2, w)/dudw)\n",
        "# h4 = sp.factor(sp.diff(h3, w)/dudw)\n",
        "\n",
        "h1 = sp.diff(h0, w)/dudw\n",
        "h2 = sp.diff(h1, w)/dudw\n",
        "h3 = sp.diff(h2, w)/dudw\n",
        "h4 = sp.diff(h3, w)/dudw\n"
      ],
      "metadata": {
        "id": "-kBrrUF0q90V"
      },
      "execution_count": 9,
      "outputs": []
    },
    {
      "cell_type": "markdown",
      "source": [
        "# verifying the formulas,\n",
        "R1 is hard for sympy, we help by providing the expression. Sympy gives expressions for R23 and R4"
      ],
      "metadata": {
        "id": "Eg_u2S3YughN"
      }
    },
    {
      "cell_type": "code",
      "source": [
        "R1s = sp.simplify(sp.factor(R1.subs([(s0, h0), (s1, h1), (s2, h2), (s3, h3), (s4, h4)])))\n",
        "R1a = (4*w**2+ w*sp.sin(2*w) - 3 + 3*sp.cos(2*w))/(w**2*sp.sin(w)**2)\n",
        "display(sp.simplify(R1s - R1a))\n",
        "\n",
        "display(sp.factor(sp.simplify(R23.subs([(s0, h0), (s1, h1), (s2, h2), (s3, h3), (s4, h4)]))))\n",
        "display(sp.factor(sp.simplify(R4.subs([(s0, h0), (s1, h1), (s2, h2), (s3, h3), (s4, h4)]))))"
      ],
      "metadata": {
        "colab": {
          "base_uri": "https://localhost:8080/",
          "height": 120
        },
        "id": "cA0Dw_M9rN4N",
        "outputId": "c94987f9-e85d-47cb-f086-884efb3d5095"
      },
      "execution_count": 10,
      "outputs": [
        {
          "output_type": "display_data",
          "data": {
            "text/plain": [
              "0"
            ],
            "text/latex": "$\\displaystyle 0$"
          },
          "metadata": {}
        },
        {
          "output_type": "display_data",
          "data": {
            "text/plain": [
              "-2*(w*cos(w) - sin(w))/sin(w)**3"
            ],
            "text/latex": "$\\displaystyle - \\frac{2 \\left(w \\cos{\\left(w \\right)} - \\sin{\\left(w \\right)}\\right)}{\\sin^{3}{\\left(w \\right)}}$"
          },
          "metadata": {}
        },
        {
          "output_type": "display_data",
          "data": {
            "text/plain": [
              "w*(2*w - sin(2*w))/(2*sin(w)**4)"
            ],
            "text/latex": "$\\displaystyle \\frac{w \\left(2 w - \\sin{\\left(2 w \\right)}\\right)}{2 \\sin^{4}{\\left(w \\right)}}$"
          },
          "metadata": {}
        }
      ]
    },
    {
      "cell_type": "markdown",
      "source": [
        "# Check numerically\n"
      ],
      "metadata": {
        "id": "xhVKH-U62Bqh"
      }
    },
    {
      "cell_type": "code",
      "source": [
        "!git clone https://github.com/dnguyend/regularMTW.git"
      ],
      "metadata": {
        "colab": {
          "base_uri": "https://localhost:8080/"
        },
        "id": "2n_LB7bh2GNJ",
        "outputId": "a4213c45-ecd5-486e-8e85-50e71973c874"
      },
      "execution_count": 11,
      "outputs": [
        {
          "output_type": "stream",
          "name": "stdout",
          "text": [
            "Cloning into 'regularMTW'...\n",
            "remote: Enumerating objects: 24, done.\u001b[K\n",
            "remote: Counting objects: 100% (24/24), done.\u001b[K\n",
            "remote: Compressing objects: 100% (20/20), done.\u001b[K\n",
            "remote: Total 24 (delta 5), reused 14 (delta 3), pack-reused 0\u001b[K\n",
            "Receiving objects: 100% (24/24), 36.43 KiB | 2.80 MiB/s, done.\n",
            "Resolving deltas: 100% (5/5), done.\n"
          ]
        }
      ]
    },
    {
      "cell_type": "code",
      "source": [
        "import jax.numpy as jnp\n",
        "import jax.numpy.linalg as jla\n",
        "from jax.scipy.optimize import minimize\n",
        "from jax import jvp, jacfwd, jacrev, random, grad\n",
        "from regularMTW.src.tools import asym, sym2, sym, Lyapunov, vcat, LambertW\n",
        "from regularMTW.src.space_form import SimpleKH, grand, splitzero\n",
        "from regularMTW.src.simple_mtw import (GenHyperbolicSimpleMTW,\n",
        "                                       LambertSimpleMTW)\n",
        "\n",
        "\n",
        "from jax.config import config\n",
        "config.update(\"jax_enable_x64\", True)\n",
        "\n",
        "\n",
        "def deriv_antenna(s, pp):\n",
        "    \"\"\" function of form s = p0exp(p1u) + p2\n",
        "    \"\"\"\n",
        "    p0, p1, p2 = pp\n",
        "    u = 1/p1*jnp.log((s-p2)/p0)\n",
        "    h0 = p0*jnp.exp(p1*u) + p2\n",
        "    h1 = p0*p1*jnp.exp(p1*u)\n",
        "    h2 = p0*p1**2*jnp.exp(p1*u)\n",
        "    h3 = p0*p1**3*jnp.exp(p1*u)\n",
        "    h4 = p0*p1**4*jnp.exp(p1*u)\n",
        "\n",
        "    return u, h0, h1, h2, h3, h4\n",
        "\n",
        "\n",
        "def deriv_hyperb(s, pp, branch=None):\n",
        "    \"\"\" function of form s = p0exp(-p3u) + p2exp(p3u)\n",
        "    thus, p1 = -p3\n",
        "    if p0p2 < 0 then always has root, one branch, so ignore branch\n",
        "    if p0p2 > 0 then need s > 4p0p2, two branches\n",
        "    \"\"\"\n",
        "    p0, p1, p2 = pp\n",
        "    p3 = - p1\n",
        "    if p0*p2 < 0:\n",
        "        rt = (s + jnp.sign(p2)*jnp.sqrt(s**2-4*p2*p0))/(2*p2)\n",
        "        u = 1/p3*jnp.log(rt)\n",
        "    else:\n",
        "        u = 1/p3*jnp.log((s + branch*jnp.sign(p2)*jnp.sqrt(s**2-4*p2*p0))/(2*p2))\n",
        "    h0 = p0*jnp.exp(p1*u) + p2*jnp.exp(p3*u)\n",
        "    h1 = p0*p1*jnp.exp(p1*u) + p2*p3*jnp.exp(p3*u)\n",
        "    h2 = p0*p1**2*jnp.exp(p1*u) + p2*p3**2*jnp.exp(p3*u)\n",
        "    h3 = p0*p1**3*jnp.exp(p1*u) + p2*p3**3*jnp.exp(p3*u)\n",
        "    h4 = p0*p1**4*jnp.exp(p1*u) + p2*p3**4*jnp.exp(p3*u)\n",
        "\n",
        "    return u, h0, h1, h2, h3, h4\n",
        "\n",
        "\n",
        "def deriv_quad_hyperb(s, pp, branch):\n",
        "    \"\"\" function of form s = p0exp(p1u) + p2exp(2p1u)\n",
        "    thus, p3 = 2p1\n",
        "\n",
        "    range is between 0 and p2infty ( at u = p1 infty). So s needs to be\n",
        "    of same sign as p2.\n",
        "\n",
        "    if p0p2 > 0 then one branch, so ignore branch\n",
        "    if p0p2 < 0 then need s > 4p0p2, two branches\n",
        "    \"\"\"\n",
        "    p0, p1, p2 = pp\n",
        "    if jnp.sign(p2) != jnp.sign(s):\n",
        "        raise ValueError(\"s and p2 should have same sign\")\n",
        "    p3 = 2*p1\n",
        "    if p0*p2 < 0:\n",
        "        u = 1/p1*jnp.log((jnp.sign(p2)*jnp.sqrt(4*s*p2+p0**2)-p0)/(2*p2))\n",
        "    else:\n",
        "        u = 1/p1*jnp.log((branch*jnp.sign(p2)*jnp.sqrt(4*s*p2+p0**2)-p0)/(2*p2))\n",
        "    h0 = p0*jnp.exp(p1*u) + p2*jnp.exp(p3*u)\n",
        "    h1 = p0*p1*jnp.exp(p1*u) + p2*p3*jnp.exp(p3*u)\n",
        "    h2 = p0*p1**2*jnp.exp(p1*u) + p2*p3**2*jnp.exp(p3*u)\n",
        "    h3 = p0*p1**3*jnp.exp(p1*u) + p2*p3**3*jnp.exp(p3*u)\n",
        "    h4 = p0*p1**4*jnp.exp(p1*u) + p2*p3**4*jnp.exp(p3*u)\n",
        "\n",
        "    return u, h0, h1, h2, h3, h4\n",
        "\n",
        "\n",
        "def deriv_gh(s, GH):\n",
        "    u = GH.ufunc(s)\n",
        "    h0, h1, h2, h3, h4 = GH.dsfunc(u, 4)\n",
        "    return u, h0, h1, h2, h3, h4\n",
        "\n",
        "\n",
        "def deriv_lambertA(s, LB):\n",
        "    u = LB.ufunc(s)\n",
        "    h0, h1, h2, h3, h4 = LB.dsfunc(u, 4)\n",
        "    return u, h0, h1, h2, h3, h4\n",
        "\n",
        "\n",
        "def deriv_lambertB(s, aa, branch):\n",
        "    # function is (a0 + a1u)*exp(a2u) = s\n",
        "    a0, a1, a2 = aa\n",
        "    u = 1/a2*LambertW(a2*s*jnp.exp(a0*a2/a1)/a1, 0)[0] - a0/a1\n",
        "    ex = jnp.exp(a2*u)\n",
        "    h = [(a0 + a1*u)*ex]\n",
        "    a, b = a0, a1\n",
        "    for i in range(1, 5):\n",
        "        h.append(h[-1]*a2 + b*ex)\n",
        "        a = a*a2 + b\n",
        "        b = b*a2\n",
        "\n",
        "    return u, h[0], h[1], h[2], h[3], h[4]\n",
        "\n",
        "\n",
        "def deriv_power_al(s, eps, al, al0):\n",
        "    u = - jnp.abs(eps*s-eps*al0)**(1/al)\n",
        "\n",
        "    h0 = eps*(-u)**al + al0\n",
        "    h1 = -al*eps*(-u)**(al-1)\n",
        "    h1 = al*(h0-al0)/u\n",
        "    if al == 2:\n",
        "        h2 = al*(al-1)*eps\n",
        "        h3 = 0\n",
        "        h4 = 0\n",
        "    else:\n",
        "        h2 = (al-1)*al*(h0-al0)/u**2\n",
        "        if al == 3:\n",
        "            h3 = - al*(al-1)*(al-2)*eps\n",
        "            h4 = 0.\n",
        "        else:\n",
        "            h3 = al*(al-1)*(al-2)*(h0-al0)/u**3\n",
        "            if al == 4:\n",
        "                h4 = al*(al-1)*(al-2)*(al-3)*eps\n",
        "            else:\n",
        "                h4 = al*(al-1)*(al-2)*(al-3)*(h0-al0)/u**4\n",
        "    return u, h0, h1, h2, h3, h4\n",
        "\n",
        "\n",
        "def deriv_power(s, al, p0=1):\n",
        "    u = - 1/p0*jnp.abs(s+1)**(1/al)\n",
        "\n",
        "    h0 = jnp.abs(p0*u)**al - 1\n",
        "    h1 = - al*p0*jnp.abs(p0*u)**(al-1)\n",
        "    if al == 2:\n",
        "        h2 = al*(al-1)*p0**2\n",
        "        h3 = 0\n",
        "        h4 = 0\n",
        "    else:\n",
        "        h2 = (al-1)*al*p0**2*jnp.abs(p0*u)**(al-2)\n",
        "        if al == 3:\n",
        "            h3 = - al*(al-1)*(al-2)*p0**3\n",
        "            h4 = 0.\n",
        "        else:\n",
        "            h3 = - al*(al-1)*(al-2)*p0**3*jnp.abs(p0*u)**(al-3)\n",
        "            if al == 4:\n",
        "                h4 = al*(al-1)*(al-2)*(al-3)*p0**4\n",
        "            else:\n",
        "                h4 = al*(al-1)*(al-2)*(al-3)*p0**4*jnp.abs(p0*u)**(al-4)\n",
        "    return u, h0, h1, h2, h3, h4\n",
        "\n"
      ],
      "metadata": {
        "colab": {
          "base_uri": "https://localhost:8080/"
        },
        "id": "vbgw0oWO2Iwp",
        "outputId": "4913403c-30e1-4f8e-a58e-743e637c2c8e"
      },
      "execution_count": 12,
      "outputs": [
        {
          "output_type": "stream",
          "name": "stderr",
          "text": [
            "<ipython-input-12-94f1d7c8e404>:11: DeprecationWarning: Accessing jax.config via the jax.config submodule is deprecated.\n",
            "  from jax.config import config\n"
          ]
        }
      ]
    },
    {
      "cell_type": "markdown",
      "source": [
        "## Check Gauss-Codazzi"
      ],
      "metadata": {
        "id": "rdzQTnCP2NA_"
      }
    },
    {
      "cell_type": "code",
      "source": [
        "\n",
        "def check_gauss_codazzi():\n",
        "    n = 5\n",
        "\n",
        "    # power case\n",
        "    key = random.PRNGKey(0)\n",
        "\n",
        "    eps = 1\n",
        "    nm = 1\n",
        "\n",
        "    # need nm = 0 then eps != -1\n",
        "    # nm = n then eps != 1\n",
        "    A = jnp.diag(jnp.array(nm*[-1.] + (n-nm)*[1.]))\n",
        "\n",
        "    ppt, key = grand(key, (4,))\n",
        "    ppt = jnp.abs(ppt)\n",
        "    pex = sorted([ppt[1], ppt[3]], reverse=True)\n",
        "    pp = [-ppt[0], -pex[0], ppt[2], -pex[1]]\n",
        "\n",
        "    GH = GenHyperbolicSimpleMTW(n, A, pp, branch=-1)\n",
        "    SKH = SimpleKH(n, A, eps, lambda s: deriv_gh(s, GH))\n",
        "    qs, key = SKH.gen_qs(key)\n",
        "\n",
        "    Omg1, key = grand(key, (2*n,))\n",
        "    Omg2, key = grand(key, (2*n,))\n",
        "    Omg3, key = grand(key, (2*n,))\n",
        "    Omg4, key = grand(key, (2*n,))\n",
        "\n",
        "    print(GH.KMMetric(qs, Omg1, Omg2))\n",
        "    print(SKH.KMMetric(qs, Omg1, Omg2))\n",
        "\n",
        "    print(jvp(lambda qq: GH.KMMetric(qq, Omg2, Omg2), (qs,), (Omg1,))[1])\n",
        "    print(2*GH.KMMetric(qs, Omg2, GH.Gamma(qs, Omg1, Omg2)))\n",
        "\n",
        "    Xi1 = SKH.projSphere(qs, Omg1)\n",
        "    Xi2 = SKH.projSphere(qs, Omg2)\n",
        "    # Xi3 = SKH.projSphere(qs, Omg3)\n",
        "    # Xi4 = SKH.projSphere(qs, Omg4)\n",
        "\n",
        "    print(jvp(lambda qq: SKH.KMMetric(qq, Xi2, Xi2), (qs,), (Xi1,))[1])\n",
        "    print(2*GH.KMMetric(qs, Xi2, GH.Gamma(qs, Xi1, Xi2)))\n",
        "    print(2*SKH.KMMetric(qs, Xi2, SKH.GammaAmbient(qs, Xi1, Xi2)))\n",
        "    print(2*SKH.KMMetric(qs, Xi2, SKH.Gamma(qs, Xi1, Xi2)))\n",
        "\n",
        "    Xi1x, Xi1y = splitzero(Xi1)\n",
        "\n",
        "    def Curv3(self, q, Omg1, Omg2, Omg3):\n",
        "        D1 = jvp(lambda q: self.Gamma(q, Omg2, Omg3), (q,), (Omg1,))[1]\n",
        "        D2 = jvp(lambda q: self.Gamma(q, Omg1, Omg3), (q,), (Omg2,))[1]\n",
        "        G1 = self.Gamma(q, Omg1, self.Gamma(q, Omg2, Omg3))\n",
        "        G2 = self.Gamma(q, Omg2, self.Gamma(q, Omg1, Omg3))\n",
        "        return D1 - D2 + G1 - G2\n",
        "\n",
        "    print(SKH.KMMetric(qs, Xi1x, Curv3(SKH, qs, Xi1x, Xi1y, Xi1y)))\n",
        "    print(SKH.crossCurvSphere(qs, Xi1)[0])\n",
        "\n",
        "    # second fundamental form\n",
        "    def TwoSphere(self, qs, Xi1, Xi2):\n",
        "        GA = self.GammaAmbient(qs, Xi1, Xi2)\n",
        "        return self.DprojSphere(qs, Xi1, Xi2) + GA - self.projSphere(qs, GA)\n",
        "\n",
        "    # Gauss Codazzi\n",
        "    print(GH.crossCurv(qs, Xi1) + GH.KMMetric(qs,\n",
        "                                              TwoSphere(SKH, qs, Xi1x, Xi1x),\n",
        "                                              TwoSphere(SKH, qs, Xi1y, Xi1y)))\n",
        "\n",
        "check_gauss_codazzi()\n"
      ],
      "metadata": {
        "colab": {
          "base_uri": "https://localhost:8080/"
        },
        "id": "0DhiLTH12LuZ",
        "outputId": "b599f612-87bf-4beb-dcc6-1a25f57a40e9"
      },
      "execution_count": 13,
      "outputs": [
        {
          "output_type": "stream",
          "name": "stdout",
          "text": [
            "4.92723097515855\n",
            "4.92723097515855\n",
            "-35.59008257244199\n",
            "-35.590082574318195\n",
            "-59.203216613387646\n",
            "-59.20321661516178\n",
            "-59.20321661516178\n",
            "-59.203216615150424\n",
            "-48.203979785520254\n",
            "-48.20397978577626\n",
            "-48.2039797857704\n"
          ]
        }
      ]
    },
    {
      "cell_type": "markdown",
      "source": [
        "# Check Sphere and Hyperboloid numerically\n",
        "\n",
        "* There are some instances the inverse function fails to converge sufficiently fast, resulting in Nan or not match - we will ignore"
      ],
      "metadata": {
        "id": "Qwrh-VHg2XsG"
      }
    },
    {
      "cell_type": "code",
      "source": [
        "\n",
        "def testSphere():\n",
        "    n = 5\n",
        "\n",
        "    # power case\n",
        "    key = random.PRNGKey(0)\n",
        "\n",
        "    eps = 1\n",
        "    nm = 0\n",
        "\n",
        "    # need nm = 0 then eps != -1\n",
        "    # nm = n then eps != 1\n",
        "    A = jnp.diag(jnp.array(nm*[-1.] + (n-nm)*[1.]))\n",
        "\n",
        "    # Antenna case,\n",
        "    # need p0 <0, p1 < 0, p2 >0\n",
        "\n",
        "    bad = False\n",
        "    for i in range(100):\n",
        "        sk, key = random.split(key)\n",
        "        al,  p0 = random.uniform(sk, (2,), minval= 2, maxval=10)\n",
        "        p0 = p0/5\n",
        "\n",
        "        skp = SimpleKH(n, A, eps, lambda q: deriv_power(q, al, p0))\n",
        "        qs, key = skp.gen_qs(key)\n",
        "        Xinull, key = skp.gennull_sphere(key, qs)\n",
        "        # print(ska.KMMetric(qs, Xinull, Xinull))\n",
        "        curv, sR1, sR23, R4 = skp.crossCurvSphere(qs, Xinull)\n",
        "        if not jnp.all(jnp.array([curv, sR1, sR23, R4]) > 0):\n",
        "            print(\"BAD\")\n",
        "            bad = True\n",
        "            break\n",
        "\n",
        "    if bad:\n",
        "        print(\"BAD\")\n",
        "    else:\n",
        "        print(\"GOOD\")\n",
        "\n",
        "testSphere()\n"
      ],
      "metadata": {
        "colab": {
          "base_uri": "https://localhost:8080/"
        },
        "id": "BiR-toYP2WbK",
        "outputId": "9a923c2e-e581-4dd8-ea89-8d7107c1c3e0"
      },
      "execution_count": 14,
      "outputs": [
        {
          "output_type": "stream",
          "name": "stdout",
          "text": [
            "GOOD\n"
          ]
        }
      ]
    },
    {
      "cell_type": "markdown",
      "source": [
        "# Check GH"
      ],
      "metadata": {
        "id": "yrqnfdS12iKi"
      }
    },
    {
      "cell_type": "code",
      "source": [
        "\n",
        "def test_hyperboloid_GH_Antenna():\n",
        "    n = 5\n",
        "    key = random.PRNGKey(0)\n",
        "\n",
        "    # nm is number of negative eigenvalues\n",
        "    # nm = 0 is the sphere, nm = 1 is the hyperboloid model\n",
        "    # constraint is - sum x_{negative) + sum x_pos = eps\n",
        "    eps = -1\n",
        "    nm = 1\n",
        "\n",
        "    # need nm = 0 then eps != -1\n",
        "    # nm = n then eps != 1\n",
        "    A = jnp.diag(jnp.array(nm*[-1.] + (n-nm)*[1.]))\n",
        "\n",
        "    # Antenna case,\n",
        "    # need p0 <0, p1 < 0, p2 >0\n",
        "\n",
        "    bad = False\n",
        "    for i in range(1000):\n",
        "        ppt, key = grand(key, (3,))\n",
        "        ppt = jnp.abs(ppt)\n",
        "        pp = [-ppt[0], -ppt[1], ppt[2]]\n",
        "        ska = SimpleKH(n, A, eps, lambda q: deriv_antenna(q, pp[:3]))\n",
        "        qs, key = ska.gen_qs(key)\n",
        "        Xinull, key = ska.gennull_sphere(key, qs)\n",
        "        # print(ska.KMMetric(qs, Xinull, Xinull))\n",
        "        curv, sR1, sR23, R4 = ska.crossCurvSphere(qs, Xinull)\n",
        "        if not jnp.all(jnp.array([curv, sR1, sR23, R4]) > 0):\n",
        "            print(\"BAD\")\n",
        "            bad = True\n",
        "            break\n",
        "\n",
        "    if bad:\n",
        "        print(\"BAD\")\n",
        "    else:\n",
        "        print(\"GOOD\")\n",
        "\n",
        "test_hyperboloid_GH_Antenna()"
      ],
      "metadata": {
        "colab": {
          "base_uri": "https://localhost:8080/"
        },
        "id": "T1tGqBoi2e7h",
        "outputId": "0fadccfd-9755-4e76-a615-3468542ace15"
      },
      "execution_count": 16,
      "outputs": [
        {
          "output_type": "stream",
          "name": "stdout",
          "text": [
            "GOOD\n"
          ]
        }
      ]
    },
    {
      "cell_type": "code",
      "source": [
        "def test_hyperboloid_GH_1():\n",
        "    n = 5\n",
        "    key = random.PRNGKey(0)\n",
        "\n",
        "    # nm is number of negative eigenvalues\n",
        "    # nm = 0 is the sphere, nm = 1 is the hyperboloid model\n",
        "    # constraint is - sum x_{negative) + sum x_pos = eps\n",
        "    eps = -1\n",
        "    nm = 1\n",
        "\n",
        "    # need nm = 0 then eps != -1\n",
        "    # nm = n then eps != 1\n",
        "    A = jnp.diag(jnp.array(nm*[-1.] + (n-nm)*[1.]))\n",
        "\n",
        "    # SINH-type\n",
        "    # p0 <0, p1 < 0, p2 >0, p1+p3 < 0\n",
        "\n",
        "    bad = False\n",
        "    for i in range(1000):\n",
        "        ppt, key = grand(key, (4,))\n",
        "        ppt = jnp.abs(ppt)\n",
        "        pex = sorted([ppt[1], ppt[3]], reverse=True)\n",
        "        pp = [-ppt[0], -pex[0], ppt[2], pex[1]]\n",
        "        GH = GenHyperbolicSimpleMTW(n, A, pp)\n",
        "\n",
        "        sksinh = SimpleKH(n, A, eps, lambda s: deriv_gh(s, GH))\n",
        "        qs, key = sksinh.gen_qs(key)\n",
        "        Xinull, key = sksinh.gennull_sphere(key, qs)\n",
        "        curv, sR1, sR23, R4 = sksinh.crossCurvSphere(qs, Xinull)\n",
        "        if not jnp.all(jnp.array([curv, sR1, sR23, R4]) > 0):\n",
        "            print(\"BAD\", curv, sR1, sR23, R4)\n",
        "            bad = True\n",
        "            break\n",
        "\n",
        "    if bad:\n",
        "        print(\"BAD\")\n",
        "    else:\n",
        "        print(\"GOOD\")\n",
        "test_hyperboloid_GH_1()"
      ],
      "metadata": {
        "colab": {
          "base_uri": "https://localhost:8080/"
        },
        "id": "5DKbmW3V4Q-Q",
        "outputId": "404d09a9-f788-4c7f-faf8-5046642fe5d4"
      },
      "execution_count": 17,
      "outputs": [
        {
          "output_type": "stream",
          "name": "stdout",
          "text": [
            "GOOD\n"
          ]
        }
      ]
    },
    {
      "cell_type": "code",
      "source": [
        "def test_hyperboloid_GH_2():\n",
        "    n = 5\n",
        "    key = random.PRNGKey(0)\n",
        "\n",
        "    # nm is number of negative eigenvalues\n",
        "    # nm = 0 is the sphere, nm = 1 is the hyperboloid model\n",
        "    # constraint is - sum x_{negative) + sum x_pos = eps\n",
        "    eps = -1\n",
        "    nm = 1\n",
        "\n",
        "    # need nm = 0 then eps != -1\n",
        "    # nm = n then eps != 1\n",
        "    A = jnp.diag(jnp.array(nm*[-1.] + (n-nm)*[1.]))\n",
        "\n",
        "    # branch case\n",
        "    # skhypbranch. Need p0 < 0, p_1 < 0, p2 > 0, p1 < p3 <=0\n",
        "    # like [-1, -1, 2, -.5]\n",
        "    bad = False\n",
        "    for i in range(1000):\n",
        "        ppt, key = grand(key, (4,))\n",
        "        ppt = jnp.abs(ppt)\n",
        "        pex = sorted([ppt[1], ppt[3]], reverse=True)\n",
        "        pp = [-ppt[0], -pex[0], ppt[2], -pex[1]]\n",
        "\n",
        "        GH = GenHyperbolicSimpleMTW(n, A, pp, branch=-1)\n",
        "        if GH.rng[1] > 1e8:\n",
        "            continue\n",
        "        skhypbranch = SimpleKH(n, A, eps, lambda s: deriv_gh(s, GH))\n",
        "        qs, key = skhypbranch.gen_qs(key)\n",
        "        Xinull, key = skhypbranch.gennull_sphere(key, qs)\n",
        "        # print(skhypbranch.KMMetric(qs, Xinull, Xinull))\n",
        "        curv, sR1, sR23, R4 = skhypbranch.crossCurvSphere(qs, Xinull)\n",
        "        if jnp.isnan(curv):\n",
        "            print(\"NAN\", i, curv, sR1, sR23, R4)\n",
        "        elif not jnp.all(jnp.array([curv, sR1, sR23, R4]) > 0):\n",
        "            print(\"BAD\", i, curv, sR1, sR23, R4)\n",
        "            bad = True\n",
        "            break\n",
        "\n",
        "    if bad:\n",
        "        print(\"BAD\")\n",
        "    else:\n",
        "        print(\"GOOD\")\n",
        "\n",
        "test_hyperboloid_GH_2()"
      ],
      "metadata": {
        "colab": {
          "base_uri": "https://localhost:8080/"
        },
        "id": "hXB1lrwa45-5",
        "outputId": "5de0793c-81ef-4d59-a890-ac512a9a4c5e"
      },
      "execution_count": 21,
      "outputs": [
        {
          "output_type": "stream",
          "name": "stdout",
          "text": [
            "NOTFOUND 19 1.5349633830652465e-07\n",
            "NOTFOUND 19 1.5349633830652465e-07\n",
            "NOTFOUND 19 2.0665719802082094e-07\n",
            "NOTFOUND 19 2.0665719802082094e-07\n",
            "GOOD\n"
          ]
        }
      ]
    },
    {
      "cell_type": "code",
      "source": [
        "def test_hyperboloid_Lambert():\n",
        "    n = 5\n",
        "    key = random.PRNGKey(0)\n",
        "\n",
        "    # nm is number of negative eigenvalues\n",
        "    # nm = 0 is the sphere, nm = 1 is the hyperboloid model\n",
        "    # constraint is - sum x_{negative) + sum x_pos = eps\n",
        "    eps = -1\n",
        "    nm = 1\n",
        "\n",
        "    # need nm = 0 then eps != -1\n",
        "    # nm = n then eps != 1\n",
        "    A = jnp.diag(jnp.array(nm*[-1.] + (n-nm)*[1.]))\n",
        "\n",
        "    # Lambert case\n",
        "    # a0, a1, a2. No constraint on a0, a1 > 0, a2 <0\n",
        "    # example [-1, 1, -2]\n",
        "\n",
        "    bad = False\n",
        "    for i in range(1000):\n",
        "        ppt, key = grand(key, (3,))\n",
        "        aa = [ppt[0], jnp.abs(ppt[1]), - jnp.abs(ppt[2])]\n",
        "        skl = SimpleKH(n, A, eps, lambda s: deriv_lambertB(s, aa, 0))\n",
        "        qs, key = skl.gen_qs(key)\n",
        "        Xinull, key = skl.gennull_sphere(key, qs)\n",
        "        # print(skhypbranch.KMMetric(qs, Xinull, Xinull))\n",
        "        curv, sR1, sR23, R4 = skl.crossCurvSphere(qs, Xinull)\n",
        "        if jnp.isnan(curv):\n",
        "            print(\"NAN, will ignore\", i, curv, sR1, sR23, R4)\n",
        "        elif not jnp.all(jnp.array([curv, sR1, sR23, R4]) > 0):\n",
        "            print(\"BAD\", i, curv, sR1, sR23, R4)\n",
        "            bad = True\n",
        "            break\n",
        "    if bad:\n",
        "        print(\"BAD\")\n",
        "    else:\n",
        "        print(\"GOOD\")\n",
        "test_hyperboloid_Lambert()"
      ],
      "metadata": {
        "colab": {
          "base_uri": "https://localhost:8080/"
        },
        "id": "I0pQY5hN5Xpb",
        "outputId": "910da871-646d-4e94-b880-949d16e79d5b"
      },
      "execution_count": 20,
      "outputs": [
        {
          "output_type": "stream",
          "name": "stdout",
          "text": [
            "NAN, will ignore 343 nan nan nan nan\n",
            "GOOD\n"
          ]
        }
      ]
    }
  ]
}